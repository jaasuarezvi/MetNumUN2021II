{
  "cells": [
    {
      "cell_type": "markdown",
      "metadata": {
        "id": "BmLueir_yioV"
      },
      "source": [
        "\n",
        "# **Introduction - Data Types and Data Structures**"
      ]
    },
    {
      "cell_type": "markdown",
      "metadata": {
        "id": "soAfR59tpzk-"
      },
      "source": [
        "Strings in python are identified as a contiguous set of characters represented in either single quotes (' ') or double quotes (\" \").\n"
      ]
    },
    {
      "cell_type": "code",
      "execution_count": 2,
      "metadata": {
        "colab": {
          "base_uri": "https://localhost:8080/"
        },
        "id": "pO6jAMuMqCSl",
        "outputId": "a930abab-fa42-488f-f8e9-6444ffdda0d1"
      },
      "outputs": [
        {
          "name": "stdout",
          "output_type": "stream",
          "text": [
            "Welcome to QuantConnect\n"
          ]
        }
      ],
      "source": [
        "my_string1 = 'Welcome to'\n",
        "my_string2 = \"QuantConnect\"\n",
        "print(my_string1 + ' ' + my_string2)\n"
      ]
    },
    {
      "cell_type": "code",
      "execution_count": 3,
      "metadata": {
        "colab": {
          "base_uri": "https://localhost:8080/"
        },
        "id": "1K0QEcRsqPSH",
        "outputId": "2c98a647-2974-483d-f676-846bb79af859"
      },
      "outputs": [
        {
          "name": "stdout",
          "output_type": "stream",
          "text": [
            "Hola Mundo XD\n"
          ]
        }
      ],
      "source": [
        "my_string1 = 'Hola'\n",
        "my_string2 = \"Mundo XD\"\n",
        "print(my_string1 + ' ' + my_string2)\n"
      ]
    },
    {
      "cell_type": "markdown",
      "metadata": {
        "id": "W996Wvt0rDpG"
      },
      "source": [
        "An integer is a round number with no values after the decimal point."
      ]
    },
    {
      "cell_type": "code",
      "execution_count": 4,
      "metadata": {
        "colab": {
          "base_uri": "https://localhost:8080/"
        },
        "id": "QP8MHVwzrFe1",
        "outputId": "2c16ab00-09bd-47c2-99ca-a76a9beace0e"
      },
      "outputs": [
        {
          "name": "stdout",
          "output_type": "stream",
          "text": [
            "10\n",
            "<class 'int'>\n"
          ]
        }
      ],
      "source": [
        "my_int = 10\n",
        "print(my_int)\n",
        "print(type(my_int))"
      ]
    },
    {
      "cell_type": "code",
      "execution_count": 5,
      "metadata": {
        "colab": {
          "base_uri": "https://localhost:8080/"
        },
        "id": "ClTmRpsirWYP",
        "outputId": "46d8f04d-b65d-4266-a2ca-b92793105123"
      },
      "outputs": [
        {
          "name": "stdout",
          "output_type": "stream",
          "text": [
            "21\n",
            "<class 'int'>\n"
          ]
        }
      ],
      "source": [
        "my_int = 21\n",
        "print(my_int)\n",
        "print(type(my_int))"
      ]
    },
    {
      "cell_type": "markdown",
      "metadata": {
        "id": "ld7NG1KZrb3c"
      },
      "source": [
        "The built-in function int() can convert a string into an integer."
      ]
    },
    {
      "cell_type": "code",
      "execution_count": 6,
      "metadata": {
        "colab": {
          "base_uri": "https://localhost:8080/"
        },
        "id": "W_WWONMIrcfm",
        "outputId": "75095c90-1064-4c53-842e-81d534575ccc"
      },
      "outputs": [
        {
          "name": "stdout",
          "output_type": "stream",
          "text": [
            "<class 'str'>\n",
            "<class 'int'>\n"
          ]
        }
      ],
      "source": [
        "my_string = \"100\"\n",
        "print(type(my_string))\n",
        "my_int = int(my_string)\n",
        "print(type(my_int))"
      ]
    },
    {
      "cell_type": "code",
      "execution_count": 7,
      "metadata": {
        "colab": {
          "base_uri": "https://localhost:8080/"
        },
        "id": "65V5lHwnrnWO",
        "outputId": "906925eb-06bf-4662-c67d-6940cce53f2f"
      },
      "outputs": [
        {
          "name": "stdout",
          "output_type": "stream",
          "text": [
            "<class 'str'>\n",
            "<class 'int'>\n"
          ]
        }
      ],
      "source": [
        "my_string = \"21\"\n",
        "print(type(my_string))\n",
        "my_int = int(my_string)\n",
        "print(type(my_int))"
      ]
    },
    {
      "cell_type": "markdown",
      "metadata": {
        "id": "O7aISuR_sihV"
      },
      "source": [
        "A floating point number, or a float, is a real number in mathematics. In Python we need to include a value after a decimal point to define it as a float."
      ]
    },
    {
      "cell_type": "code",
      "execution_count": 8,
      "metadata": {
        "colab": {
          "base_uri": "https://localhost:8080/"
        },
        "id": "TO6dNxFLsjXE",
        "outputId": "cbcab637-7580-4041-a124-fea8354ce2d3"
      },
      "outputs": [
        {
          "name": "stdout",
          "output_type": "stream",
          "text": [
            "<class 'float'>\n",
            "<class 'int'>\n"
          ]
        }
      ],
      "source": [
        "my_float = 1.0\n",
        "print(type(my_float))\n",
        "my_int = 1\n",
        "print(type(my_int))"
      ]
    },
    {
      "cell_type": "code",
      "execution_count": 9,
      "metadata": {
        "colab": {
          "base_uri": "https://localhost:8080/"
        },
        "id": "fPLQuvNgsn9N",
        "outputId": "4232f4dc-3a7f-4b68-a4aa-0e77e8b502eb"
      },
      "outputs": [
        {
          "name": "stdout",
          "output_type": "stream",
          "text": [
            "<class 'float'>\n",
            "<class 'int'>\n"
          ]
        }
      ],
      "source": [
        "my_float = 2.1\n",
        "print(type(my_float))\n",
        "my_int = 1\n",
        "print(type(my_int))"
      ]
    },
    {
      "cell_type": "markdown",
      "metadata": {
        "id": "IF98bwI1stcX"
      },
      "source": [
        "As you can see above, if we don't include a decimal value, the variable would be defined as an integer. The built-in function float() can convert a string or an integer into a float."
      ]
    },
    {
      "cell_type": "code",
      "execution_count": 10,
      "metadata": {
        "colab": {
          "base_uri": "https://localhost:8080/"
        },
        "id": "H9FIrCBQsup5",
        "outputId": "71af179f-081f-41cb-8561-c9561f91ab0d"
      },
      "outputs": [
        {
          "name": "stdout",
          "output_type": "stream",
          "text": [
            "<class 'float'>\n"
          ]
        }
      ],
      "source": [
        "my_string = \"100\"\n",
        "my_float = float(my_string)\n",
        "print(type(my_float))"
      ]
    },
    {
      "cell_type": "code",
      "execution_count": 11,
      "metadata": {
        "colab": {
          "base_uri": "https://localhost:8080/"
        },
        "id": "cUK2UcFssxMH",
        "outputId": "1329b782-70f6-4b2a-f647-ddd26318a05e"
      },
      "outputs": [
        {
          "name": "stdout",
          "output_type": "stream",
          "text": [
            "<class 'float'>\n"
          ]
        }
      ],
      "source": [
        "my_string = \"210\"\n",
        "my_float = float(my_string)\n",
        "print(type(my_float))"
      ]
    },
    {
      "cell_type": "markdown",
      "metadata": {
        "id": "PRT9uyuGs002"
      },
      "source": [
        "A boolean, or bool, is a binary variable. Its value can only be True or False. It is useful when we do some logic operations, which would be covered in our next chapter."
      ]
    },
    {
      "cell_type": "code",
      "execution_count": 12,
      "metadata": {
        "colab": {
          "base_uri": "https://localhost:8080/"
        },
        "id": "KfHj1wiLs3JO",
        "outputId": "01f5d3be-9295-4f2f-962a-2030ebcc572c"
      },
      "outputs": [
        {
          "name": "stdout",
          "output_type": "stream",
          "text": [
            "False\n",
            "<class 'bool'>\n"
          ]
        }
      ],
      "source": [
        "my_bool = False\n",
        "print(my_bool)\n",
        "print(type(my_bool))"
      ]
    },
    {
      "cell_type": "code",
      "execution_count": 13,
      "metadata": {
        "colab": {
          "base_uri": "https://localhost:8080/"
        },
        "id": "HwR6eoU3s6EI",
        "outputId": "2d593105-ff1e-45bd-e2d3-e01c35e3653f"
      },
      "outputs": [
        {
          "name": "stdout",
          "output_type": "stream",
          "text": [
            "True\n",
            "<class 'bool'>\n"
          ]
        }
      ],
      "source": [
        "my_bool = True\n",
        "print(my_bool)\n",
        "print(type(my_bool))"
      ]
    },
    {
      "cell_type": "markdown",
      "metadata": {
        "id": "TVodL9Ahs8kG"
      },
      "source": [
        "The basic math operators in python are demonstrated below:"
      ]
    },
    {
      "cell_type": "code",
      "execution_count": 14,
      "metadata": {
        "colab": {
          "base_uri": "https://localhost:8080/"
        },
        "id": "-axtfK_btF9X",
        "outputId": "99efa95b-de77-4c48-d50d-35878098f6d9"
      },
      "outputs": [
        {
          "name": "stdout",
          "output_type": "stream",
          "text": [
            "Addition  2\n",
            "Subtraction  3\n",
            "Multiplication  6\n",
            "Division 5.0\n",
            "exponent 8\n"
          ]
        }
      ],
      "source": [
        "print(\"Addition \", 1+1)\n",
        "print(\"Subtraction \", 5-2)\n",
        "print(\"Multiplication \", 2*3)\n",
        "print(\"Division\", 10/2)\n",
        "print(\"exponent\", 2**3)"
      ]
    },
    {
      "cell_type": "code",
      "execution_count": 15,
      "metadata": {
        "colab": {
          "base_uri": "https://localhost:8080/"
        },
        "id": "zfKgGzDCtJFR",
        "outputId": "228ca101-41ac-44c9-f3d3-40d68abd0d73"
      },
      "outputs": [
        {
          "name": "stdout",
          "output_type": "stream",
          "text": [
            "Addition  3\n",
            "Subtraction  1\n",
            "Multiplication  2\n",
            "Division 2.0\n",
            "exponent 2\n"
          ]
        }
      ],
      "source": [
        "print(\"Addition \", 2+1)\n",
        "print(\"Subtraction \", 2-1)\n",
        "print(\"Multiplication \", 2*1)\n",
        "print(\"Division\", 2/1)\n",
        "print(\"exponent\", 2**1)"
      ]
    },
    {
      "cell_type": "markdown",
      "metadata": {
        "id": "VCzyk888tRJg"
      },
      "source": [
        "List\n",
        "A list is an ordered collection of values. A list is mutable, which means you can change a list's value without changing the list itself. Creating a list is simply putting different comma-separated values between square brackets."
      ]
    },
    {
      "cell_type": "code",
      "execution_count": 16,
      "metadata": {
        "colab": {
          "base_uri": "https://localhost:8080/"
        },
        "id": "kLp2qOL0tRuw",
        "outputId": "66ed33ee-6c80-4393-9947-5b2144e9138b"
      },
      "outputs": [
        {
          "name": "stdout",
          "output_type": "stream",
          "text": [
            "['Quant', 'Connect', 1, 2, 3]\n"
          ]
        }
      ],
      "source": [
        "my_list = ['Quant', 'Connect', 1,2,3]\n",
        "print(my_list)"
      ]
    },
    {
      "cell_type": "code",
      "execution_count": 17,
      "metadata": {
        "colab": {
          "base_uri": "https://localhost:8080/"
        },
        "id": "GSwPxB1ztUT-",
        "outputId": "7dff04fd-32fa-4ff3-e8fb-c2b3f57d3334"
      },
      "outputs": [
        {
          "name": "stdout",
          "output_type": "stream",
          "text": [
            "['Saludos', 'a todos', 2, 1, 0]\n"
          ]
        }
      ],
      "source": [
        "my_list = ['Saludos', 'a todos', 2,1,0]\n",
        "print(my_list)"
      ]
    },
    {
      "cell_type": "markdown",
      "metadata": {
        "id": "doWTLYp1tbN1"
      },
      "source": [
        "The values in a list are called \"elements\". We can access list elements by indexing. Python index starts from 0. So if you have a list of length n, the index of the first element will be 0, and that of the last element will be n − 1. By the way, the length of a list can be obtained by the built-in function len()."
      ]
    },
    {
      "cell_type": "code",
      "execution_count": 18,
      "metadata": {
        "colab": {
          "base_uri": "https://localhost:8080/"
        },
        "id": "9GwgPm1ktdJg",
        "outputId": "bfe5e2f9-75c4-4701-cbe2-b867370a88e8"
      },
      "outputs": [
        {
          "name": "stdout",
          "output_type": "stream",
          "text": [
            "5\n",
            "Quant\n",
            "3\n"
          ]
        }
      ],
      "source": [
        "my_list = ['Quant', 'Connect', 1,2,3]\n",
        "print(len(my_list))\n",
        "print(my_list[0])\n",
        "print(my_list[len(my_list) - 1])"
      ]
    },
    {
      "cell_type": "code",
      "execution_count": 19,
      "metadata": {
        "colab": {
          "base_uri": "https://localhost:8080/"
        },
        "id": "8jhDvee0tgOR",
        "outputId": "e055bc86-9a8b-4c30-abd4-4dc6228d8ee7"
      },
      "outputs": [
        {
          "name": "stdout",
          "output_type": "stream",
          "text": [
            "5\n",
            "Saludos\n",
            "0\n"
          ]
        }
      ],
      "source": [
        "my_list = ['Saludos', 'a todos', 2,1,0]\n",
        "print(len(my_list))\n",
        "print(my_list[0])\n",
        "print(my_list[len(my_list) - 1])"
      ]
    },
    {
      "cell_type": "markdown",
      "metadata": {
        "id": "Lp7p7LcltmgH"
      },
      "source": [
        "You can also change the elements in the list by accessing an index and assigning a new value."
      ]
    },
    {
      "cell_type": "code",
      "execution_count": 20,
      "metadata": {
        "colab": {
          "base_uri": "https://localhost:8080/"
        },
        "id": "twb16ffrtoEN",
        "outputId": "9c90fdbe-787a-4669-ef91-fdce5a748ef3"
      },
      "outputs": [
        {
          "name": "stdout",
          "output_type": "stream",
          "text": [
            "['Quant', 'Connect', 'go', 2, 3]\n"
          ]
        }
      ],
      "source": [
        "my_list = ['Quant','Connect',1,2,3]\n",
        "my_list[2] = 'go'\n",
        "print(my_list)"
      ]
    },
    {
      "cell_type": "code",
      "execution_count": 21,
      "metadata": {
        "colab": {
          "base_uri": "https://localhost:8080/"
        },
        "id": "_GUnTouUtpLO",
        "outputId": "183ce997-848c-4f67-a0d7-43fb9b8cb993"
      },
      "outputs": [
        {
          "name": "stdout",
          "output_type": "stream",
          "text": [
            "['Saludos', 'a todos', 'aqui', 1, 0]\n"
          ]
        }
      ],
      "source": [
        "my_list = ['Saludos','a todos',2,1,0]\n",
        "my_list[2] = 'aqui'\n",
        "print(my_list)"
      ]
    },
    {
      "cell_type": "markdown",
      "metadata": {
        "id": "1Ofa7tPUt3aw"
      },
      "source": [
        "A list can also be sliced with a colon:"
      ]
    },
    {
      "cell_type": "code",
      "execution_count": 22,
      "metadata": {
        "colab": {
          "base_uri": "https://localhost:8080/"
        },
        "id": "1bgrGPzSt5I_",
        "outputId": "4c43d9c9-0765-4840-e704-e49049155690"
      },
      "outputs": [
        {
          "name": "stdout",
          "output_type": "stream",
          "text": [
            "['Connect', 1]\n"
          ]
        }
      ],
      "source": [
        "my_list = ['Quant','Connect',1,2,3]\n",
        "print(my_list[1:3])"
      ]
    },
    {
      "cell_type": "code",
      "execution_count": 23,
      "metadata": {
        "colab": {
          "base_uri": "https://localhost:8080/"
        },
        "id": "EqK3ir_et7lu",
        "outputId": "ccf4fd17-9ae8-4428-9d42-d8265a8a4afb"
      },
      "outputs": [
        {
          "name": "stdout",
          "output_type": "stream",
          "text": [
            "['a todos', 2]\n"
          ]
        }
      ],
      "source": [
        "my_list = ['saludos','a todos',2,1,0]\n",
        "print(my_list[1:3])"
      ]
    },
    {
      "cell_type": "markdown",
      "metadata": {
        "id": "ZlJXYoaeuek5"
      },
      "source": [
        "The slice starts from the first element indicated, but excludes the last element indicated. Here we select all elements starting from index 1, which refers to the second element:"
      ]
    },
    {
      "cell_type": "code",
      "execution_count": 24,
      "metadata": {
        "colab": {
          "base_uri": "https://localhost:8080/"
        },
        "id": "mUDdAHIUugcE",
        "outputId": "6f32c174-9257-452f-aab2-bb7f73c28de1"
      },
      "outputs": [
        {
          "name": "stdout",
          "output_type": "stream",
          "text": [
            "['a todos', 2, 1, 0]\n"
          ]
        }
      ],
      "source": [
        "print(my_list[1:])"
      ]
    },
    {
      "cell_type": "code",
      "execution_count": 25,
      "metadata": {
        "colab": {
          "base_uri": "https://localhost:8080/"
        },
        "id": "WS2LqiRhuy03",
        "outputId": "3ec32d61-e9c5-48fb-d80d-d62978007b0d"
      },
      "outputs": [
        {
          "name": "stdout",
          "output_type": "stream",
          "text": [
            "[1, 0]\n"
          ]
        }
      ],
      "source": [
        "print(my_list[3:])"
      ]
    },
    {
      "cell_type": "markdown",
      "metadata": {
        "id": "OcPCzjKxu05Q"
      },
      "source": [
        "And all elements up to but excluding index 3:"
      ]
    },
    {
      "cell_type": "code",
      "execution_count": 26,
      "metadata": {
        "colab": {
          "base_uri": "https://localhost:8080/"
        },
        "id": "qSDCS0ynu2Of",
        "outputId": "7bdcb978-788c-4c75-cf83-85ca5f1f2b1c"
      },
      "outputs": [
        {
          "name": "stdout",
          "output_type": "stream",
          "text": [
            "['saludos', 'a todos', 2]\n"
          ]
        }
      ],
      "source": [
        "print(my_list[:3])"
      ]
    },
    {
      "cell_type": "code",
      "execution_count": 27,
      "metadata": {
        "colab": {
          "base_uri": "https://localhost:8080/"
        },
        "id": "vIF79Xz7u4zY",
        "outputId": "7e09c6bc-245a-4d69-bd07-fb5741b99384"
      },
      "outputs": [
        {
          "name": "stdout",
          "output_type": "stream",
          "text": [
            "['saludos', 'a todos']\n"
          ]
        }
      ],
      "source": [
        "print(my_list[:2])"
      ]
    },
    {
      "cell_type": "markdown",
      "metadata": {
        "id": "FIKG9KLtu8LR"
      },
      "source": [
        "If you wish to add or remove an element from a list, you can use the append() and remove() methods for lists as follows:"
      ]
    },
    {
      "cell_type": "code",
      "execution_count": 28,
      "metadata": {
        "colab": {
          "base_uri": "https://localhost:8080/"
        },
        "id": "ZabRJ_9-u9-5",
        "outputId": "773b2a55-9cbd-4dca-802b-f2709ee23425"
      },
      "outputs": [
        {
          "name": "stdout",
          "output_type": "stream",
          "text": [
            "['Hello', 'Quant', 'Hello']\n",
            "['Quant', 'Hello']\n"
          ]
        }
      ],
      "source": [
        "my_list = ['Hello', 'Quant']\n",
        "my_list.append('Hello')\n",
        "print(my_list)\n",
        "my_list.remove('Hello')\n",
        "print(my_list)"
      ]
    },
    {
      "cell_type": "code",
      "execution_count": 29,
      "metadata": {
        "colab": {
          "base_uri": "https://localhost:8080/"
        },
        "id": "Rk5V_rMGvBnP",
        "outputId": "7b11f496-e6f7-4352-e0c7-b16fb623f985"
      },
      "outputs": [
        {
          "name": "stdout",
          "output_type": "stream",
          "text": [
            "['Saludos', 'a todos', 'Saludos']\n",
            "['a todos', 'Saludos']\n"
          ]
        }
      ],
      "source": [
        "my_list = ['Saludos', 'a todos']\n",
        "my_list.append('Saludos')\n",
        "print(my_list)\n",
        "my_list.remove('Saludos')\n",
        "print(my_list)"
      ]
    },
    {
      "cell_type": "markdown",
      "metadata": {
        "id": "TxPPyWAsvLpJ"
      },
      "source": [
        "Tuple\n",
        "A tuple is a data structure type similar to a list. The difference is that a tuple is immutable, which means you can't change the elements in it once it's defined. We create a tuple by putting comma-separated values between parentheses."
      ]
    },
    {
      "cell_type": "code",
      "execution_count": 30,
      "metadata": {
        "colab": {
          "base_uri": "https://localhost:8080/"
        },
        "id": "b0OOSS3mvP77",
        "outputId": "40f64a29-c0ff-4bf8-dc1b-055742bba7ab"
      },
      "outputs": [
        {
          "name": "stdout",
          "output_type": "stream",
          "text": [
            "('to', 'QuantConnect')\n"
          ]
        }
      ],
      "source": [
        "my_tuple = ('Welcome','to','QuantConnect')\n",
        "print(my_tuple[1:])"
      ]
    },
    {
      "cell_type": "code",
      "execution_count": 31,
      "metadata": {
        "colab": {
          "base_uri": "https://localhost:8080/"
        },
        "id": "a837SaVvvYQ5",
        "outputId": "5d76a096-9d3f-463c-b358-81736fa9ddc1"
      },
      "outputs": [
        {
          "name": "stdout",
          "output_type": "stream",
          "text": [
            "('a', 'todos')\n"
          ]
        }
      ],
      "source": [
        "my_tuple = ('Saludos','a','todos')\n",
        "print(my_tuple[1:])"
      ]
    },
    {
      "cell_type": "markdown",
      "metadata": {
        "id": "igk4mT36vcJt"
      },
      "source": [
        "Set\n",
        "A set is an unordered collection with no duplicate elements. The built-in function set() can be used to create sets."
      ]
    },
    {
      "cell_type": "code",
      "execution_count": 32,
      "metadata": {
        "colab": {
          "base_uri": "https://localhost:8080/"
        },
        "id": "HdOUrg2yveMX",
        "outputId": "e371f880-7c34-4a71-feb6-adcdd13fde4e"
      },
      "outputs": [
        {
          "name": "stdout",
          "output_type": "stream",
          "text": [
            "{'GOOG', 'AAPL', 'IBM', 'FB', 'F'}\n"
          ]
        }
      ],
      "source": [
        "stock_list = ['AAPL','GOOG','IBM','AAPL','IBM','FB','F','GOOG']\n",
        "stock_set = set(stock_list)\n",
        "print(stock_set)"
      ]
    },
    {
      "cell_type": "code",
      "execution_count": 33,
      "metadata": {
        "colab": {
          "base_uri": "https://localhost:8080/"
        },
        "id": "R6tuSam2vipo",
        "outputId": "20e7091e-6d7a-4ca2-8f10-46a504a38eb6"
      },
      "outputs": [
        {
          "name": "stdout",
          "output_type": "stream",
          "text": [
            "{'todos', 'presentes', 'aqui', 'Saludos', 'a'}\n"
          ]
        }
      ],
      "source": [
        "stock_list = ['Saludos','a','todos','Saludos','todos','aqui','presentes','a']\n",
        "stock_set = set(stock_list)\n",
        "print(stock_set)"
      ]
    },
    {
      "cell_type": "markdown",
      "metadata": {
        "id": "ScKfIY2pv9Iq"
      },
      "source": [
        "Dictionary\n",
        "A dictionary is one of the most important data structures in Python. Unlike sequences which are indexed by integers, dictionaries are indexed by keys which can be either strings or floats.\n",
        "\n",
        "A dictionary is an unordered collection of key : value pairs, with the requirement that the keys are unique. We create a dictionary by placing a comma-separated list of key : value pairs within the braces.\n",
        "\n",
        "After defining a dictionary, we can access any value by indicating its key in brackets.\n",
        "\n"
      ]
    },
    {
      "cell_type": "code",
      "execution_count": 34,
      "metadata": {
        "colab": {
          "base_uri": "https://localhost:8080/"
        },
        "id": "HN9pfhh0wFAU",
        "outputId": "4c8cfc40-606e-4aca-8451-84333bae382e"
      },
      "outputs": [
        {
          "name": "stdout",
          "output_type": "stream",
          "text": [
            "Alphabet\n"
          ]
        }
      ],
      "source": [
        "my_dic = {'AAPL': 'Apple', 'FB': 'FaceBook', 'GOOG': 'Alphabet'}\n",
        "print(my_dic['GOOG'])"
      ]
    },
    {
      "cell_type": "code",
      "execution_count": 35,
      "metadata": {
        "colab": {
          "base_uri": "https://localhost:8080/"
        },
        "id": "j-sapmDywIc5",
        "outputId": "feb822c7-6b76-48d9-9264-7238ae3a5bcb"
      },
      "outputs": [
        {
          "name": "stdout",
          "output_type": "stream",
          "text": [
            "para\n"
          ]
        }
      ],
      "source": [
        "my_dic = {'Saludos': 'Hola', 'a': 'para', 'todos': ':D'}\n",
        "print(my_dic['a'])"
      ]
    },
    {
      "cell_type": "markdown",
      "metadata": {
        "id": "AX-8L7GWwS2j"
      },
      "source": [
        "We can also change the value associated with a specified key:"
      ]
    },
    {
      "cell_type": "code",
      "execution_count": 36,
      "metadata": {
        "colab": {
          "base_uri": "https://localhost:8080/"
        },
        "id": "ua2aFLozwa0b",
        "outputId": "d5439487-3fa1-4e22-f79e-878cab57327d"
      },
      "outputs": [
        {
          "name": "stdout",
          "output_type": "stream",
          "text": [
            "Alphabet Company\n"
          ]
        }
      ],
      "source": [
        "my_dic['GOOG'] = 'Alphabet Company'\n",
        "print(my_dic['GOOG'])"
      ]
    },
    {
      "cell_type": "code",
      "execution_count": 37,
      "metadata": {
        "colab": {
          "base_uri": "https://localhost:8080/"
        },
        "id": "g_yrWsZvwbs7",
        "outputId": "9e8b76fb-f8d0-4f3f-f3c9-6fc9e25bff1c"
      },
      "outputs": [
        {
          "name": "stdout",
          "output_type": "stream",
          "text": [
            "ti\n"
          ]
        }
      ],
      "source": [
        "my_dic['todos'] = 'ti'\n",
        "print(my_dic['todos'])"
      ]
    },
    {
      "cell_type": "markdown",
      "metadata": {
        "id": "1M4rOW5swht5"
      },
      "source": [
        "The built-in method of the dictionary object dict.keys() returns a list of all the keys used in the dictionary."
      ]
    },
    {
      "cell_type": "code",
      "execution_count": 38,
      "metadata": {
        "colab": {
          "base_uri": "https://localhost:8080/"
        },
        "id": "JVWbvHvBwj8F",
        "outputId": "5dc1f2d4-1f02-48a2-d45b-551fa661fca8"
      },
      "outputs": [
        {
          "name": "stdout",
          "output_type": "stream",
          "text": [
            "dict_keys(['Saludos', 'a', 'todos', 'GOOG'])\n"
          ]
        }
      ],
      "source": [
        "print(my_dic.keys())"
      ]
    },
    {
      "cell_type": "markdown",
      "metadata": {
        "id": "KWg3QWjRwqts"
      },
      "source": [
        "A string is an immutable sequence of characters. It can be sliced by index just like a tuple:"
      ]
    },
    {
      "cell_type": "code",
      "execution_count": 39,
      "metadata": {
        "colab": {
          "base_uri": "https://localhost:8080/"
        },
        "id": "_3WNl88HwsNp",
        "outputId": "72c39b6d-c713-4a9a-fe7c-14ade4787ce4"
      },
      "outputs": [
        {
          "name": "stdout",
          "output_type": "stream",
          "text": [
            "to QuantConnect\n"
          ]
        }
      ],
      "source": [
        "my_str = 'Welcome to QuantConnect'\n",
        "print(my_str[8:])"
      ]
    },
    {
      "cell_type": "code",
      "execution_count": 40,
      "metadata": {
        "colab": {
          "base_uri": "https://localhost:8080/"
        },
        "id": "54XjnbrTwt4j",
        "outputId": "f083f525-bb6e-457b-8b28-17fea13864f5"
      },
      "outputs": [
        {
          "name": "stdout",
          "output_type": "stream",
          "text": [
            "os a todos\n"
          ]
        }
      ],
      "source": [
        "my_str = 'Saludos a todos'\n",
        "print(my_str[5:])"
      ]
    },
    {
      "cell_type": "markdown",
      "metadata": {
        "id": "ZEC6ijm3wyiB"
      },
      "source": [
        "There are many methods associated with strings. We can use string.count() to count the occurrences of a character in a string, use string.find() to return the index of a specific character, and use string.replace() to replace characters."
      ]
    },
    {
      "cell_type": "code",
      "execution_count": 41,
      "metadata": {
        "colab": {
          "base_uri": "https://localhost:8080/"
        },
        "id": "Xsa6JFoAwy-p",
        "outputId": "64bc54e2-8d2d-42d0-a793-63aad3a41bcb"
      },
      "outputs": [
        {
          "name": "stdout",
          "output_type": "stream",
          "text": [
            "6\n",
            "2\n",
            "ell the e in this sentence now becomes e\n"
          ]
        }
      ],
      "source": [
        "print(\"Counting the number of e's in this sentence\".count('e'))\n",
        "print('The first time e appears in this sentence'.find('e'))\n",
        "print('all the a in this sentence now becomes e'.replace('a','e'))"
      ]
    },
    {
      "cell_type": "code",
      "execution_count": 42,
      "metadata": {
        "colab": {
          "base_uri": "https://localhost:8080/"
        },
        "id": "uSYI5EzRw5PL",
        "outputId": "252f7ae5-c8d2-4cac-a566-84ff45b43cce"
      },
      "outputs": [
        {
          "name": "stdout",
          "output_type": "stream",
          "text": [
            "3\n",
            "3\n",
            "Biunvunido a ustu lugar\n"
          ]
        }
      ],
      "source": [
        "print(\"Saludos a todos\".count('o'))\n",
        "print('Hola para ti'.find('a'))\n",
        "print('Bienvenido a este lugar'.replace('e','u'))"
      ]
    },
    {
      "cell_type": "markdown",
      "metadata": {
        "id": "M32iWdg6xNrx"
      },
      "source": [
        "The most commonly used method for strings is string.split(). This method will split the string by the indicated character and return a list:"
      ]
    },
    {
      "cell_type": "code",
      "execution_count": 43,
      "metadata": {
        "colab": {
          "base_uri": "https://localhost:8080/"
        },
        "id": "pTbhfqg8xPcN",
        "outputId": "88730896-3c7e-4225-f452-e14680eaa3ae"
      },
      "outputs": [
        {
          "name": "stdout",
          "output_type": "stream",
          "text": [
            "2016-04-01 09:43:00\n",
            "09\n"
          ]
        }
      ],
      "source": [
        "Time = '2016-04-01 09:43:00'\n",
        "splited_list = Time.split(' ')\n",
        "date = splited_list[0]\n",
        "time = splited_list[1]\n",
        "print(date, time)\n",
        "hour = time.split(':')[0]\n",
        "print(hour)"
      ]
    },
    {
      "cell_type": "code",
      "execution_count": 44,
      "metadata": {
        "colab": {
          "base_uri": "https://localhost:8080/"
        },
        "id": "aP9MpWJKxe8k",
        "outputId": "c6896cbb-f813-439a-d239-8e2c7a93684b"
      },
      "outputs": [
        {
          "name": "stdout",
          "output_type": "stream",
          "text": [
            "2021-10-18 11:18:25\n",
            "11\n"
          ]
        }
      ],
      "source": [
        "Time = '2021-10-18 11:18:25'\n",
        "splited_list = Time.split(' ')\n",
        "date = splited_list[0]\n",
        "time = splited_list[1]\n",
        "print(date, time)\n",
        "hour = time.split(':')[0]\n",
        "print(hour)"
      ]
    },
    {
      "cell_type": "markdown",
      "metadata": {
        "id": "WIC5QqN7xpFF"
      },
      "source": [
        "We can replace parts of a string by our variable. This is called string formatting."
      ]
    },
    {
      "cell_type": "code",
      "execution_count": 45,
      "metadata": {
        "colab": {
          "base_uri": "https://localhost:8080/"
        },
        "id": "adCL-n3vxqc6",
        "outputId": "72600516-b5a3-42ce-dba2-4e59ea5988e5"
      },
      "outputs": [
        {
          "name": "stdout",
          "output_type": "stream",
          "text": [
            "Hour: 9, Minute: 43\n"
          ]
        }
      ],
      "source": [
        "my_time = 'Hour: {}, Minute: {}'.format(9, 43)\n",
        "print(my_time)"
      ]
    },
    {
      "cell_type": "code",
      "execution_count": 46,
      "metadata": {
        "colab": {
          "base_uri": "https://localhost:8080/"
        },
        "id": "qkVBCxN6xryb",
        "outputId": "f637c4d9-ea39-46e6-ad00-539be27296c2"
      },
      "outputs": [
        {
          "name": "stdout",
          "output_type": "stream",
          "text": [
            "Hora: 10, Minuto: 25\n"
          ]
        }
      ],
      "source": [
        "my_time = 'Hora: {}, Minuto: {}'.format(10, 25)\n",
        "print(my_time)"
      ]
    },
    {
      "cell_type": "markdown",
      "metadata": {
        "id": "D1kVR8CjxyBe"
      },
      "source": [
        "Another way to format a string is to use the % symbol."
      ]
    },
    {
      "cell_type": "code",
      "execution_count": 47,
      "metadata": {
        "colab": {
          "base_uri": "https://localhost:8080/"
        },
        "id": "W9N-Ej0DxyiV",
        "outputId": "14290980-9dfa-447e-ed72-4237251cd306"
      },
      "outputs": [
        {
          "name": "stdout",
          "output_type": "stream",
          "text": [
            "pi is 3.140000\n",
            "Welcome to QuantConnect\n"
          ]
        }
      ],
      "source": [
        "print ('pi is %f' % 3.14)\n",
        "print('%s to %s' % ('Welcome', 'QuantConnect'))"
      ]
    },
    {
      "cell_type": "code",
      "execution_count": 48,
      "metadata": {
        "colab": {
          "base_uri": "https://localhost:8080/"
        },
        "id": "9-VlmXRKx1Da",
        "outputId": "daa288b5-1e13-437b-fa8c-5a52d2983746"
      },
      "outputs": [
        {
          "name": "stdout",
          "output_type": "stream",
          "text": [
            "mi codigo es 32.251000\n",
            "Saludos a todos\n"
          ]
        }
      ],
      "source": [
        "print ('mi codigo es %f' % 32.251)\n",
        "print('%s a %s' % ('Saludos', 'todos'))"
      ]
    },
    {
      "cell_type": "markdown",
      "metadata": {
        "id": "W-aaUKkOyrN5"
      },
      "source": [
        "# **Logical Operations**"
      ]
    },
    {
      "cell_type": "markdown",
      "metadata": {
        "id": "VC3q2BqByxOL"
      },
      "source": [
        "Like most programming languages, Python has comparison operators:"
      ]
    },
    {
      "cell_type": "code",
      "execution_count": 49,
      "metadata": {
        "colab": {
          "base_uri": "https://localhost:8080/"
        },
        "id": "GoRI-vPDywy7",
        "outputId": "6b8feba6-15ae-4453-a5d2-a60bf7747573"
      },
      "outputs": [
        {
          "name": "stdout",
          "output_type": "stream",
          "text": [
            "False\n",
            "True\n",
            "True\n",
            "True\n",
            "False\n"
          ]
        }
      ],
      "source": [
        "print(1 == 0)   # 1 equals 0\n",
        "print(1 == 1)    # 1 equals 1\n",
        "print(1 != 0)   # 1 is not equal to 0\n",
        "print(5 >= 5)    # 5 is greater than or equal to 5\n",
        "print(5 >= 6)    # 5 is greater than or equal to 6"
      ]
    },
    {
      "cell_type": "code",
      "execution_count": 50,
      "metadata": {
        "colab": {
          "base_uri": "https://localhost:8080/"
        },
        "id": "iRVvWGzTzHd2",
        "outputId": "3a420121-1e27-4f9c-fc3f-ce91059ab056"
      },
      "outputs": [
        {
          "name": "stdout",
          "output_type": "stream",
          "text": [
            "False\n",
            "True\n",
            "True\n",
            "True\n",
            "False\n"
          ]
        }
      ],
      "source": [
        "print(4 == 8)\n",
        "print(6 == 6)\n",
        "print(15 != 40)\n",
        "print(4 >= 3)\n",
        "print(8 >= 14)  "
      ]
    },
    {
      "cell_type": "markdown",
      "metadata": {
        "id": "whwnI5p-zpee"
      },
      "source": [
        "Each statement above has a boolean value, which must be either True or False, but not both.\n",
        "\n",
        "We can combine simple statements P and Q to form complex statements using logical operators:\n",
        "\n",
        "The statement \"P and Q\" is true if both P and Q are true, otherwise it is false.\n",
        "The statement \"P or Q\" is false if both P and Q are false, otherwise it is true.\n",
        "The statement \"not P\" is true if P is false, and vice versa."
      ]
    },
    {
      "cell_type": "code",
      "execution_count": 51,
      "metadata": {
        "colab": {
          "base_uri": "https://localhost:8080/"
        },
        "id": "UUVfobGWzqHY",
        "outputId": "881bbb0b-9e0b-4e6e-a619-58cf3068392e"
      },
      "outputs": [
        {
          "name": "stdout",
          "output_type": "stream",
          "text": [
            "True\n",
            "False\n",
            "True\n",
            "False\n"
          ]
        }
      ],
      "source": [
        "print(2 > 1 and 3 > 2)\n",
        "print(2 > 1 and 3 < 2)\n",
        "print(2 > 1 or  3 < 2)\n",
        "print(2 < 1 and 3 < 2)"
      ]
    },
    {
      "cell_type": "code",
      "execution_count": 52,
      "metadata": {
        "colab": {
          "base_uri": "https://localhost:8080/"
        },
        "id": "Th1rtV7iz1S-",
        "outputId": "3cee4f07-6f19-4a89-95b4-50c240cf312e"
      },
      "outputs": [
        {
          "name": "stdout",
          "output_type": "stream",
          "text": [
            "True\n",
            "False\n",
            "True\n",
            "False\n"
          ]
        }
      ],
      "source": [
        "print(14 > 7 and 7 > 4)\n",
        "print(14 > 7 and 7 < 4)\n",
        "print(8 > 3 or  8 < 3)\n",
        "print(12 < 1 and 13 < 2)"
      ]
    },
    {
      "cell_type": "markdown",
      "metadata": {
        "id": "VB3l_nNl0xLm"
      },
      "source": [
        "When dealing with a very complex logical statement that involves in several statements, we can use brackets to separate and combine them."
      ]
    },
    {
      "cell_type": "code",
      "execution_count": 53,
      "metadata": {
        "colab": {
          "base_uri": "https://localhost:8080/"
        },
        "id": "Uyp2qUNM0xia",
        "outputId": "bf8d2349-c757-4109-8b2b-9732eeb8266c"
      },
      "outputs": [
        {
          "name": "stdout",
          "output_type": "stream",
          "text": [
            "False\n",
            "True\n"
          ]
        }
      ],
      "source": [
        "print((3 > 2 or 1 < 3) and (1!=3 and 4>3) and not ( 3 < 2 or 1 < 3 and (1!=3 and 4>3)))\n",
        "print(3 > 2 or 1 < 3 and (1!=3 and 4>3) and not ( 3 < 2 or 1 < 3 and (1!=3 and 4>3)))"
      ]
    },
    {
      "cell_type": "code",
      "execution_count": 54,
      "metadata": {
        "colab": {
          "base_uri": "https://localhost:8080/"
        },
        "id": "tgMLRQpT08hN",
        "outputId": "b4575305-0d0d-4320-f2ec-145b44386918"
      },
      "outputs": [
        {
          "name": "stdout",
          "output_type": "stream",
          "text": [
            "True\n",
            "False\n"
          ]
        }
      ],
      "source": [
        "print((25 > 8 and 1 < 3) or (1!=25 and 16>3) or ( 25 < 2 and not 45 < 36 or (1!=3 and 4>3)))\n",
        "print(32 > 3 and 2 < 1 or (6!=5 and 7>8) and not ( 8 < 6 and not 4 < 5 and (56!=65 or 4>34)))"
      ]
    },
    {
      "cell_type": "markdown",
      "metadata": {
        "id": "Ho01p2mx1cAo"
      },
      "source": [
        "If Statement\n",
        "An if statement executes a segment of code only if its condition is true. A standard if statement consists of 3 segments: if, elif and else."
      ]
    },
    {
      "cell_type": "code",
      "execution_count": 55,
      "metadata": {
        "colab": {
          "base_uri": "https://localhost:8080/"
        },
        "id": "tnU3CADt1gD1",
        "outputId": "a60acf4b-dfe4-45fb-9496-3130d47aecfe"
      },
      "outputs": [
        {
          "name": "stdout",
          "output_type": "stream",
          "text": [
            "i == 0 is True\n"
          ]
        }
      ],
      "source": [
        "i = 0\n",
        "if i == 0: print('i == 0 is True')"
      ]
    },
    {
      "cell_type": "code",
      "execution_count": 56,
      "metadata": {
        "colab": {
          "base_uri": "https://localhost:8080/"
        },
        "id": "p1hu6Qp81poZ",
        "outputId": "5a78b346-fc42-4f01-8462-07c39665cc52"
      },
      "outputs": [
        {
          "name": "stdout",
          "output_type": "stream",
          "text": [
            "i == 5 is True\n"
          ]
        }
      ],
      "source": [
        "i = 5\n",
        "if i == 5: print('i == 5 is True')"
      ]
    },
    {
      "cell_type": "markdown",
      "metadata": {
        "id": "f2PQ_nOD1uL1"
      },
      "source": [
        "As we mentioned above, we can write some complex statements here:"
      ]
    },
    {
      "cell_type": "code",
      "execution_count": 57,
      "metadata": {
        "colab": {
          "base_uri": "https://localhost:8080/"
        },
        "id": "92QDN40l1ulE",
        "outputId": "3fca2246-7517-4161-cc90-99ac9762db39"
      },
      "outputs": [
        {
          "name": "stdout",
          "output_type": "stream",
          "text": [
            "p and q is true\n"
          ]
        }
      ],
      "source": [
        "p = 8 > 0\n",
        "q = 14 > 5\n",
        "if p and q:\n",
        "    print('p and q is true')\n",
        "elif p and not q:\n",
        "    print('q is false')\n",
        "elif q and not p:\n",
        "    print('p is false')\n",
        "else:\n",
        "    print('None of p and q is true')"
      ]
    },
    {
      "cell_type": "markdown",
      "metadata": {
        "id": "fdTTRQ8g2By1"
      },
      "source": [
        "Loop Structure\n",
        "Loops are an essential part of programming. The \"for\" and \"while\" loops run a block of code repeatedly.\n",
        "\n",
        "While Loop\n",
        "A \"while\" loop will run repeatedly until a certain condition has been met."
      ]
    },
    {
      "cell_type": "code",
      "execution_count": 58,
      "metadata": {
        "colab": {
          "base_uri": "https://localhost:8080/"
        },
        "id": "Eis-5hAH2Dnk",
        "outputId": "cb24e8aa-6ca4-40a5-9ea8-f4b672bdbdfd"
      },
      "outputs": [
        {
          "name": "stdout",
          "output_type": "stream",
          "text": [
            "0\n",
            "1\n",
            "2\n",
            "3\n",
            "4\n"
          ]
        }
      ],
      "source": [
        "i = 0\n",
        "while i < 5:\n",
        "    print(i)\n",
        "    i += 1"
      ]
    },
    {
      "cell_type": "code",
      "execution_count": 59,
      "metadata": {
        "colab": {
          "base_uri": "https://localhost:8080/"
        },
        "id": "nFIADPCv2HnE",
        "outputId": "b2fa64f3-9526-4de1-c13a-155e0143c31c"
      },
      "outputs": [
        {
          "name": "stdout",
          "output_type": "stream",
          "text": [
            "3\n",
            "4\n"
          ]
        }
      ],
      "source": [
        "i = 3\n",
        "while i < 5:\n",
        "    print(i)\n",
        "    i += 1"
      ]
    },
    {
      "cell_type": "markdown",
      "metadata": {
        "id": "0W5X4s9R2McF"
      },
      "source": [
        "For Loop\n",
        "A \"for\" loop will iterate over a sequence of value and terminate when the sequence has ended."
      ]
    },
    {
      "cell_type": "code",
      "execution_count": 60,
      "metadata": {
        "colab": {
          "base_uri": "https://localhost:8080/"
        },
        "id": "MnuXH_RG2RMn",
        "outputId": "c9e66a32-9480-44df-ee09-3d214a8ffab9"
      },
      "outputs": [
        {
          "name": "stdout",
          "output_type": "stream",
          "text": [
            "1\n",
            "2\n",
            "3\n",
            "4\n",
            "5\n"
          ]
        }
      ],
      "source": [
        "for x in [1,2,3,4,5]: print(x)"
      ]
    },
    {
      "cell_type": "code",
      "execution_count": 61,
      "metadata": {
        "colab": {
          "base_uri": "https://localhost:8080/"
        },
        "id": "p-q62biJ2YDA",
        "outputId": "822162b3-edbd-4bb4-9c88-a797ca609fa5"
      },
      "outputs": [
        {
          "name": "stdout",
          "output_type": "stream",
          "text": [
            "2\n",
            "3\n",
            "4\n",
            "5\n",
            "6\n"
          ]
        }
      ],
      "source": [
        "for x in [2,3,4,5,6]: print(x)"
      ]
    },
    {
      "cell_type": "markdown",
      "metadata": {
        "id": "4epVQnQ_2gF9"
      },
      "source": [
        "We can also add if statements in a for loop. Here is a real example from our pairs trading algorithm:"
      ]
    },
    {
      "cell_type": "code",
      "execution_count": 62,
      "metadata": {
        "colab": {
          "base_uri": "https://localhost:8080/"
        },
        "id": "odmR_BJU2g62",
        "outputId": "f9d9f9e8-6eb8-4371-d066-0d8dfb54d89f"
      },
      "outputs": [
        {
          "name": "stdout",
          "output_type": "stream",
          "text": [
            "['dos', 'tres', 'cuatro', 's', 'r', 'oc']\n"
          ]
        }
      ],
      "source": [
        "stocks = ['uno','dos','tres','cuatro','c','s', 'r', 'oc']\n",
        "selected = ['uno','c']\n",
        "new_list = []\n",
        "for stock in stocks:\n",
        "    if stock not in selected:\n",
        "        new_list.append(stock)\n",
        "print(new_list)"
      ]
    },
    {
      "cell_type": "markdown",
      "metadata": {
        "id": "qQxcpzpyCmwT"
      },
      "source": [
        "Break and continue\n",
        "These are two commonly used commands in a for loop. If \"break\" is triggered while a loop is executing, the loop will terminate immediately:"
      ]
    },
    {
      "cell_type": "code",
      "execution_count": 63,
      "metadata": {
        "colab": {
          "base_uri": "https://localhost:8080/"
        },
        "id": "TIQCRus4CpI7",
        "outputId": "f9945bf6-f960-4513-817b-c2fd27e642b6"
      },
      "outputs": [
        {
          "name": "stdout",
          "output_type": "stream",
          "text": [
            "AAPL\n",
            "GOOG\n",
            "IBM\n",
            "FB\n"
          ]
        }
      ],
      "source": [
        "stocks = ['AAPL','GOOG','IBM','FB','F','V', 'G', 'GE']\n",
        "for stock in stocks:\n",
        "    print (stock)\n",
        "    if stock == 'FB': break"
      ]
    },
    {
      "cell_type": "code",
      "execution_count": 64,
      "metadata": {
        "colab": {
          "base_uri": "https://localhost:8080/"
        },
        "id": "rc-xeWifCvb3",
        "outputId": "5b492bbd-86b2-4810-9dd3-74cdc7efa53d"
      },
      "outputs": [
        {
          "name": "stdout",
          "output_type": "stream",
          "text": [
            "uno\n",
            "dos\n",
            "tres\n"
          ]
        }
      ],
      "source": [
        "stocks = ['uno','dos','tres','cuatro','c','s', 'r', 'oc']\n",
        "for stock in stocks:\n",
        "    print (stock)\n",
        "    if stock == 'tres': break"
      ]
    },
    {
      "cell_type": "markdown",
      "metadata": {
        "id": "RuicyJIRCy0M"
      },
      "source": [
        "The \"continue\" command tells the loop to end this iteration and skip to the next iteration:"
      ]
    },
    {
      "cell_type": "code",
      "execution_count": 65,
      "metadata": {
        "colab": {
          "base_uri": "https://localhost:8080/"
        },
        "id": "oWdqCqATC3_q",
        "outputId": "a865ca50-8877-4699-b1e9-72849813f503"
      },
      "outputs": [
        {
          "name": "stdout",
          "output_type": "stream",
          "text": [
            "AAPL\n",
            "GOOG\n",
            "IBM\n",
            "F\n",
            "V\n",
            "G\n",
            "GE\n"
          ]
        }
      ],
      "source": [
        "stocks = ['AAPL','GOOG','IBM','FB','F','V', 'G', 'GE']\n",
        "for stock in stocks:\n",
        "    if stock == 'FB': continue\n",
        "    print (stock)"
      ]
    },
    {
      "cell_type": "code",
      "execution_count": 66,
      "metadata": {
        "colab": {
          "base_uri": "https://localhost:8080/"
        },
        "id": "n5jpfMkTC6JC",
        "outputId": "68c3b935-1dc9-4e3a-eee9-276cd1821ec7"
      },
      "outputs": [
        {
          "name": "stdout",
          "output_type": "stream",
          "text": [
            "uno\n",
            "dos\n",
            "cuatro\n",
            "c\n",
            "s\n",
            "r\n",
            "oc\n"
          ]
        }
      ],
      "source": [
        "stocks = ['uno','dos','tres','cuatro','c','s', 'r', 'oc']\n",
        "for stock in stocks:\n",
        "    if stock == 'tres': continue\n",
        "    print (stock)"
      ]
    },
    {
      "cell_type": "markdown",
      "metadata": {
        "id": "NCNnmF6cDD_a"
      },
      "source": [
        "List Comprehension\n",
        "List comprehension is a Pythonic way to create lists. Common applications are to make new lists where each element is the result of some operations applied to each member of another sequence. For example, if we want to create a list of squares using for loop:"
      ]
    },
    {
      "cell_type": "code",
      "execution_count": 67,
      "metadata": {
        "colab": {
          "base_uri": "https://localhost:8080/"
        },
        "id": "sos7KMkADE1D",
        "outputId": "0c68982e-23de-4cd6-b415-1a63ca68f0ea"
      },
      "outputs": [
        {
          "name": "stdout",
          "output_type": "stream",
          "text": [
            "[1, 4, 9, 16, 25]\n"
          ]
        }
      ],
      "source": [
        "squares = []\n",
        "for i in [1,2,3,4,5]:\n",
        "    squares.append(i**2)\n",
        "print (squares)"
      ]
    },
    {
      "cell_type": "code",
      "execution_count": 68,
      "metadata": {
        "colab": {
          "base_uri": "https://localhost:8080/"
        },
        "id": "H2Gta0lZDKh6",
        "outputId": "0d0b7736-8f2a-412d-a6a4-47bca72603d9"
      },
      "outputs": [
        {
          "name": "stdout",
          "output_type": "stream",
          "text": [
            "[144, 4, 1024, 1936, 25]\n"
          ]
        }
      ],
      "source": [
        "squares = []\n",
        "for i in [12,2,32,44,5]:\n",
        "    squares.append(i**2)\n",
        "print (squares)"
      ]
    },
    {
      "cell_type": "markdown",
      "metadata": {
        "id": "8kZiomURDVxe"
      },
      "source": [
        "\n",
        "Using list comprehension:"
      ]
    },
    {
      "cell_type": "code",
      "execution_count": 69,
      "metadata": {
        "colab": {
          "base_uri": "https://localhost:8080/"
        },
        "id": "3TL3kmoZDYTk",
        "outputId": "ee768f7b-c5ea-47ed-ca52-a3661bea92f0"
      },
      "outputs": [
        {
          "name": "stdout",
          "output_type": "stream",
          "text": [
            "[1, 4, 9, 16, 25]\n"
          ]
        }
      ],
      "source": [
        "foo = [1,2,3,4,5]\n",
        "squares = [x**2 for x in foo]\n",
        "print (squares)"
      ]
    },
    {
      "cell_type": "code",
      "execution_count": 70,
      "metadata": {
        "colab": {
          "base_uri": "https://localhost:8080/"
        },
        "id": "SMT_pymJDaMt",
        "outputId": "f751a0c0-2b1c-48f7-ac3a-e8a207ac67c4"
      },
      "outputs": [
        {
          "name": "stdout",
          "output_type": "stream",
          "text": [
            "[144, 4, 1024, 1936, 25]\n"
          ]
        }
      ],
      "source": [
        "foo = [12,2,32,44,5]\n",
        "squares = [x**2 for x in foo]\n",
        "print (squares)"
      ]
    },
    {
      "cell_type": "markdown",
      "metadata": {
        "id": "mIaUIHkJDgb7"
      },
      "source": [
        "Recall the example above where we used a for loop to select stocks. Here we use list comprehension:"
      ]
    },
    {
      "cell_type": "code",
      "execution_count": 71,
      "metadata": {
        "colab": {
          "base_uri": "https://localhost:8080/"
        },
        "id": "7zDcOsu-DiOc",
        "outputId": "01b438a1-7ddd-4dc9-fabc-0cb9b16063e5"
      },
      "outputs": [
        {
          "name": "stdout",
          "output_type": "stream",
          "text": [
            "['GOOG', 'FB', 'F', 'V', 'G', 'GE']\n"
          ]
        }
      ],
      "source": [
        "stocks = ['AAPL','GOOG','IBM','FB','F','V', 'G', 'GE']\n",
        "selected = ['AAPL','IBM']\n",
        "new_list = [x for x in stocks if x not in selected]\n",
        "print (new_list)"
      ]
    },
    {
      "cell_type": "code",
      "execution_count": 72,
      "metadata": {
        "colab": {
          "base_uri": "https://localhost:8080/"
        },
        "id": "i_e4GkI5DkrD",
        "outputId": "a6c2f098-4d31-4d0c-a026-b5a513f8c221"
      },
      "outputs": [
        {
          "name": "stdout",
          "output_type": "stream",
          "text": [
            "['uno', 'tres', 'cuatro', 'r', 'oc']\n"
          ]
        }
      ],
      "source": [
        "stocks = ['uno','dos','tres','cuatro','c','s', 'r', 'oc']\n",
        "selected = ['dos','c','s']\n",
        "new_list = [x for x in stocks if x not in selected]\n",
        "print (new_list)"
      ]
    },
    {
      "cell_type": "markdown",
      "metadata": {
        "id": "6SpqiMaPDsR5"
      },
      "source": [
        "A list comprehension consists of square brackets containing an expression followed by a \"for\" clause, and possibly \"for\" or \"if\" clauses. For example:"
      ]
    },
    {
      "cell_type": "code",
      "execution_count": 73,
      "metadata": {
        "colab": {
          "base_uri": "https://localhost:8080/"
        },
        "id": "KV0WM27xDuNF",
        "outputId": "4ddff034-7f6f-4cb6-f50a-71a8dbc64119"
      },
      "outputs": [
        {
          "name": "stdout",
          "output_type": "stream",
          "text": [
            "[(1, 3), (1, 4), (2, 3), (2, 1), (2, 4), (3, 1), (3, 4)]\n",
            "['AAPL vs F', 'AAPL vs V', 'AAPL vs G', 'AAPL vs GE', 'GOOG vs F', 'GOOG vs V', 'GOOG vs G', 'GOOG vs GE', 'IBM vs F', 'IBM vs V', 'IBM vs G', 'IBM vs GE', 'FB vs F', 'FB vs V', 'FB vs G', 'FB vs GE']\n"
          ]
        }
      ],
      "source": [
        "print([(x, y) for x in [1,2,3] for y in [3,1,4] if x != y])\n",
        "print([str(x) + ' vs ' + str(y) for x in ['AAPL','GOOG','IBM','FB']\n",
        "                                for y in ['F','V','G','GE'] if x != y])"
      ]
    },
    {
      "cell_type": "code",
      "execution_count": 74,
      "metadata": {
        "colab": {
          "base_uri": "https://localhost:8080/"
        },
        "id": "PPzVYAhBD7Ec",
        "outputId": "41b95f0f-cdef-4f30-be1b-91712c1a9817"
      },
      "outputs": [
        {
          "name": "stdout",
          "output_type": "stream",
          "text": [
            "[(3, 4), (3, 2), (3, 8), (2, 4), (2, 8), (1, 4), (1, 2), (1, 8)]\n",
            "['uno vs c', 'uno vs s', 'uno vs r', 'uno vs oc', 'dos vs c', 'dos vs s', 'dos vs r', 'dos vs oc', 'tres vs c', 'tres vs s', 'tres vs r', 'tres vs oc', 'cuatro vs c', 'cuatro vs s', 'cuatro vs r', 'cuatro vs oc']\n"
          ]
        }
      ],
      "source": [
        "print([(x, y) for x in [3,2,1] for y in [4,2,8] if x != y])\n",
        "print([str(x) + ' vs ' + str(y) for x in ['uno','dos','tres','cuatro']\n",
        "                                for y in ['c','s', 'r', 'oc'] if x != y])"
      ]
    },
    {
      "cell_type": "markdown",
      "metadata": {
        "id": "4JYUPFmBFFaW"
      },
      "source": [
        "# **Functions and Objective-Oriented Programming**\n",
        "\n",
        "\n",
        "\n"
      ]
    },
    {
      "cell_type": "markdown",
      "metadata": {
        "id": "WshO-UYpFTR9"
      },
      "source": [
        "Functions\n",
        "A function is a reusable block of code. We can use a function to output a value, or do anything else we want. We can easily define our own function by using the keyword \"def\"."
      ]
    },
    {
      "cell_type": "code",
      "execution_count": 75,
      "metadata": {
        "colab": {
          "base_uri": "https://localhost:8080/"
        },
        "id": "vQOAjVTVFTrF",
        "outputId": "bf55e635-d35f-4cff-b61b-fa53cc9dbace"
      },
      "outputs": [
        {
          "name": "stdout",
          "output_type": "stream",
          "text": [
            "6\n",
            "50\n"
          ]
        }
      ],
      "source": [
        "def product(x,y):\n",
        "    return x*y\n",
        "print(product(2,3))\n",
        "print(product(5,10))"
      ]
    },
    {
      "cell_type": "code",
      "execution_count": 76,
      "metadata": {
        "colab": {
          "base_uri": "https://localhost:8080/"
        },
        "id": "NkrpzstcFePm",
        "outputId": "b67d008a-a832-4ef1-9d0c-24da35fa0fae"
      },
      "outputs": [
        {
          "name": "stdout",
          "output_type": "stream",
          "text": [
            "5\n",
            "15\n"
          ]
        }
      ],
      "source": [
        "def sum(x,y):\n",
        "    return x+y\n",
        "print(sum(2,3))\n",
        "print(sum(5,10))"
      ]
    },
    {
      "cell_type": "markdown",
      "metadata": {
        "id": "6PoJJu9hFzFl"
      },
      "source": [
        "The keyword \"def\" is followed by the function name and the parenthesized list of formal parameters. The statements that form the body of the function start at the next line, and must be indented. The product() function above has \"x\" and \"y\" as its parameters. A function doesn't necessarily have parameters:"
      ]
    },
    {
      "cell_type": "code",
      "execution_count": 77,
      "metadata": {
        "colab": {
          "base_uri": "https://localhost:8080/"
        },
        "id": "7OGwb5HdF0mT",
        "outputId": "bc11265c-29f8-4c03-e201-d4ec842eee94"
      },
      "outputs": [
        {
          "name": "stdout",
          "output_type": "stream",
          "text": [
            "Welcome to QuantConnect\n"
          ]
        }
      ],
      "source": [
        "def say_hi():\n",
        "    print(\"Welcome to QuantConnect\")\n",
        "say_hi()"
      ]
    },
    {
      "cell_type": "code",
      "execution_count": 78,
      "metadata": {
        "colab": {
          "base_uri": "https://localhost:8080/"
        },
        "id": "zf8eEv5TF6-U",
        "outputId": "96c123eb-9a51-4c45-d82c-9621ffcd4051"
      },
      "outputs": [
        {
          "name": "stdout",
          "output_type": "stream",
          "text": [
            "Saludos a todos\n"
          ]
        }
      ],
      "source": [
        "def saludos():\n",
        "    print(\"Saludos a todos\")\n",
        "saludos()"
      ]
    },
    {
      "cell_type": "markdown",
      "metadata": {
        "id": "TjpJTO9QGCkU"
      },
      "source": [
        "Built-in Function\n",
        "range() is a function that creates a list containing an arithmetic sequence. It's often used in for loops. The arguments must be integers. If the \"step\" argument is omitted, it defaults to 1."
      ]
    },
    {
      "cell_type": "code",
      "execution_count": 79,
      "metadata": {
        "colab": {
          "base_uri": "https://localhost:8080/"
        },
        "id": "lD51xiY3GE3U",
        "outputId": "7285dd5a-bd0b-4174-f0f8-63f0ccfb0227"
      },
      "outputs": [
        {
          "name": "stdout",
          "output_type": "stream",
          "text": [
            "[0, 1, 2, 3, 4, 5, 6, 7, 8, 9]\n",
            "[1, 2, 3, 4, 5, 6, 7, 8, 9]\n",
            "[1, 3, 5, 7, 9]\n"
          ]
        }
      ],
      "source": [
        "print ([x for x in range(10)])\n",
        "print ([x for x in range(1,10)])\n",
        "print ([x for x in range(1,11,2)])"
      ]
    },
    {
      "cell_type": "code",
      "execution_count": 80,
      "metadata": {
        "colab": {
          "base_uri": "https://localhost:8080/"
        },
        "id": "QQq_wQNjHnFo",
        "outputId": "97e1a08c-8485-427b-facc-0a5c933ba5be"
      },
      "outputs": [
        {
          "name": "stdout",
          "output_type": "stream",
          "text": [
            "[0, 1, 2, 3, 4, 5, 6, 7]\n",
            "[3, 4, 5, 6, 7]\n",
            "[4, 7]\n"
          ]
        }
      ],
      "source": [
        "print ([x for x in range(8)])\n",
        "print ([x for x in range(3,8)])\n",
        "print ([x for x in range(4,8,3)])"
      ]
    },
    {
      "cell_type": "markdown",
      "metadata": {
        "id": "9mcXvaRxHxwN"
      },
      "source": [
        "len() is another function used together with range() to create a for loop. This function returns the length of an object. The argument must be a sequence or a collection."
      ]
    },
    {
      "cell_type": "code",
      "execution_count": 81,
      "metadata": {
        "colab": {
          "base_uri": "https://localhost:8080/"
        },
        "id": "S8hIon7EHzut",
        "outputId": "1b1cc81a-b630-4466-8f76-1c7b7bb34add"
      },
      "outputs": [
        {
          "name": "stdout",
          "output_type": "stream",
          "text": [
            "Los elementos enumerados son 8\n",
            "1 uno\n",
            "2 dos\n",
            "3 tres\n",
            "4 cuatro\n",
            "5 c\n",
            "6 s\n",
            "7 r\n",
            "8 oc\n"
          ]
        }
      ],
      "source": [
        "tickers = ['uno','dos','tres','cuatro','c','s', 'r', 'oc']\n",
        "print (\"Los elementos enumerados son {}\".format(len(tickers)))\n",
        "for k in range(len(tickers)):\n",
        "    print (k + 1, tickers[k])"
      ]
    },
    {
      "cell_type": "markdown",
      "metadata": {
        "id": "Rrhu3VGOItNX"
      },
      "source": [
        "map() is a function that applies a specific function to every item of a sequence or collection, and returns a list of the results."
      ]
    },
    {
      "cell_type": "code",
      "execution_count": 82,
      "metadata": {
        "colab": {
          "base_uri": "https://localhost:8080/"
        },
        "id": "AZSs2cHuIwvF",
        "outputId": "bfc81fe2-d922-4d0f-a9ff-5043e738a2a3"
      },
      "outputs": [
        {
          "name": "stdout",
          "output_type": "stream",
          "text": [
            "[4, 4, 3, 2, 1, 1, 1, 2]\n"
          ]
        }
      ],
      "source": [
        "tickers = ['AAPL','GOOG','IBM','FB','F','V', 'G', 'GE']\n",
        "print(list(map(len,tickers)))"
      ]
    },
    {
      "cell_type": "code",
      "execution_count": 83,
      "metadata": {
        "colab": {
          "base_uri": "https://localhost:8080/"
        },
        "id": "A5VIPcC7I2iv",
        "outputId": "08dd26e2-01a6-485e-d80b-772af8b5b49a"
      },
      "outputs": [
        {
          "name": "stdout",
          "output_type": "stream",
          "text": [
            "[3, 3, 4, 6, 1, 1, 1, 2]\n"
          ]
        }
      ],
      "source": [
        "tickers = ['uno','dos','tres','cuatro','c','s', 'r', 'oc']\n",
        "print(list(map(len,tickers)))"
      ]
    },
    {
      "cell_type": "markdown",
      "metadata": {
        "id": "3rr96mHjI8iz"
      },
      "source": [
        "The lambda operator is a way to create small anonymous functions. These functions are just needed where they have been created. For example:"
      ]
    },
    {
      "cell_type": "code",
      "execution_count": 84,
      "metadata": {
        "colab": {
          "base_uri": "https://localhost:8080/"
        },
        "id": "qxfE4bS2I8xa",
        "outputId": "153d799d-31b5-4c25-be3b-2ce05bd9b73a"
      },
      "outputs": [
        {
          "name": "stdout",
          "output_type": "stream",
          "text": [
            "[0, 1, 4, 9, 16, 25, 36, 49, 64, 81]\n"
          ]
        }
      ],
      "source": [
        "print(list(map(lambda x: x**2, range(10))))"
      ]
    },
    {
      "cell_type": "code",
      "execution_count": 85,
      "metadata": {
        "colab": {
          "base_uri": "https://localhost:8080/"
        },
        "id": "32GCYGHUJL9f",
        "outputId": "c26b85c8-4112-40e5-e19d-79d5e6c1a4f3"
      },
      "outputs": [
        {
          "name": "stdout",
          "output_type": "stream",
          "text": [
            "[0, 1, 8, 27, 64, 125]\n"
          ]
        }
      ],
      "source": [
        "print(list(map(lambda x: x**3, range(6))))"
      ]
    },
    {
      "cell_type": "markdown",
      "metadata": {
        "id": "OddhxtRlJPaY"
      },
      "source": [
        "map() can be applied to more than one list. The lists have to have the same length."
      ]
    },
    {
      "cell_type": "code",
      "execution_count": 86,
      "metadata": {
        "colab": {
          "base_uri": "https://localhost:8080/"
        },
        "id": "qf-zd-BkJRK7",
        "outputId": "9b547b85-8def-4225-cecd-403bbc70e698"
      },
      "outputs": [
        {
          "name": "stdout",
          "output_type": "stream",
          "text": [
            "[6, 6, 6, 6, 6]\n"
          ]
        }
      ],
      "source": [
        "print(list(map(lambda x, y: x+y, [1,2,3,4,5], [5,4,3,2,1])))"
      ]
    },
    {
      "cell_type": "code",
      "execution_count": 87,
      "metadata": {
        "colab": {
          "base_uri": "https://localhost:8080/"
        },
        "id": "ByqEqK8rJcxy",
        "outputId": "4d99c0cb-ddf4-4a25-9661-7763ee787865"
      },
      "outputs": [
        {
          "name": "stdout",
          "output_type": "stream",
          "text": [
            "[-4, -2, 0, 2, 4]\n"
          ]
        }
      ],
      "source": [
        "print(list(map(lambda x, y: x-y, [1,2,3,4,5], [5,4,3,2,1])))"
      ]
    },
    {
      "cell_type": "markdown",
      "metadata": {
        "id": "Q7RaFODNJmg2"
      },
      "source": [
        "sorted() takes a list or set and returns a new sorted list:"
      ]
    },
    {
      "cell_type": "code",
      "execution_count": 88,
      "metadata": {
        "colab": {
          "base_uri": "https://localhost:8080/"
        },
        "id": "VofTKt3MJnGQ",
        "outputId": "67003e12-3db2-41ad-8b82-c7c243dda56f"
      },
      "outputs": [
        {
          "data": {
            "text/plain": [
              "[1, 2, 3, 4, 5]"
            ]
          },
          "execution_count": 88,
          "metadata": {},
          "output_type": "execute_result"
        }
      ],
      "source": [
        "sorted([5,2,3,4,1])"
      ]
    },
    {
      "cell_type": "code",
      "execution_count": 89,
      "metadata": {
        "colab": {
          "base_uri": "https://localhost:8080/"
        },
        "id": "jb3_lAPYJpBp",
        "outputId": "ab60acc9-d30a-4ab4-cc4d-ceeff2123e0d"
      },
      "outputs": [
        {
          "data": {
            "text/plain": [
              "[11, 14, 18, 22, 36]"
            ]
          },
          "execution_count": 89,
          "metadata": {},
          "output_type": "execute_result"
        }
      ],
      "source": [
        "sorted([11,14,18,22,36])"
      ]
    },
    {
      "cell_type": "markdown",
      "metadata": {
        "id": "22w-ERMWKULE"
      },
      "source": [
        "We can add a \"key\" parameter to specify a function to be called on each list element prior to making comparisons. For example:"
      ]
    },
    {
      "cell_type": "code",
      "execution_count": 90,
      "metadata": {
        "colab": {
          "base_uri": "https://localhost:8080/"
        },
        "id": "8T8Ij8HAKV1h",
        "outputId": "7f280f29-afa6-4931-e3b4-b73fc02b37d3"
      },
      "outputs": [
        {
          "data": {
            "text/plain": [
              "[('MSFT', 69),\n",
              " ('WMT', 75.32),\n",
              " ('AAPL', 144.09),\n",
              " ('FB', 150),\n",
              " ('GOOGL', 911.71)]"
            ]
          },
          "execution_count": 90,
          "metadata": {},
          "output_type": "execute_result"
        }
      ],
      "source": [
        "price_list = [('AAPL', 144.09), ('GOOGL', 911.71), ('MSFT', 69), ('FB', 150), ('WMT', 75.32)]\n",
        "sorted(price_list, key = lambda x: x[1])"
      ]
    },
    {
      "cell_type": "code",
      "execution_count": 91,
      "metadata": {
        "colab": {
          "base_uri": "https://localhost:8080/"
        },
        "id": "-s2Tbs1eKXjf",
        "outputId": "383d68bc-c0e5-452f-c93b-33c4338ab4ea"
      },
      "outputs": [
        {
          "data": {
            "text/plain": [
              "[('CIN', 3.14), ('UNO', 22.3), ('DOS', 41), ('TRES', 87.5), ('C', 144)]"
            ]
          },
          "execution_count": 91,
          "metadata": {},
          "output_type": "execute_result"
        }
      ],
      "source": [
        "price_list = [('UNO', 22.3), ('DOS', 41), ('TRES', 87.5), ('C', 144), ('CIN', 3.14)]\n",
        "sorted(price_list, key = lambda x: x[1])"
      ]
    },
    {
      "cell_type": "markdown",
      "metadata": {
        "id": "yORH_zMXKmeK"
      },
      "source": [
        "By default the values are sorted by ascending order. We can change it to descending by adding an optional parameter \"reverse'."
      ]
    },
    {
      "cell_type": "code",
      "execution_count": 92,
      "metadata": {
        "colab": {
          "base_uri": "https://localhost:8080/"
        },
        "id": "c7EK0HsiKpMP",
        "outputId": "bd3ae65d-1c41-494b-85af-5882875b535c"
      },
      "outputs": [
        {
          "data": {
            "text/plain": [
              "[('GOOGL', 911.71),\n",
              " ('FB', 150),\n",
              " ('AAPL', 144.09),\n",
              " ('WMT', 75.32),\n",
              " ('MSFT', 69)]"
            ]
          },
          "execution_count": 92,
          "metadata": {},
          "output_type": "execute_result"
        }
      ],
      "source": [
        "price_list = [('AAPL', 144.09), ('GOOGL', 911.71), ('MSFT', 69), ('FB', 150), ('WMT', 75.32)]\n",
        "sorted(price_list, key = lambda x: x[1], reverse = True)"
      ]
    },
    {
      "cell_type": "code",
      "execution_count": 93,
      "metadata": {
        "colab": {
          "base_uri": "https://localhost:8080/"
        },
        "id": "MKUeQidAKsI_",
        "outputId": "41ca5b9a-c450-401d-f4b0-3e84e8662d8f"
      },
      "outputs": [
        {
          "data": {
            "text/plain": [
              "[('C', 144), ('TRES', 87.5), ('DOS', 41), ('UNO', 22.3), ('CIN', 3.14)]"
            ]
          },
          "execution_count": 93,
          "metadata": {},
          "output_type": "execute_result"
        }
      ],
      "source": [
        "price_list = [('UNO', 22.3), ('DOS', 41), ('TRES', 87.5), ('C', 144), ('CIN', 3.14)]\n",
        "sorted(price_list, key = lambda x: x[1],reverse = True)"
      ]
    },
    {
      "cell_type": "markdown",
      "metadata": {
        "id": "R6R0iAycQUaT"
      },
      "source": [
        "Lists also have a function list.sort(). This function takes the same \"key\" and \"reverse\" arguments as sorted(), but it doesn't return a new list."
      ]
    },
    {
      "cell_type": "code",
      "execution_count": 94,
      "metadata": {
        "colab": {
          "base_uri": "https://localhost:8080/"
        },
        "id": "Wz6bN9WHQUva",
        "outputId": "3ce645c5-df8d-4290-e2e2-1c17b3d5af50"
      },
      "outputs": [
        {
          "name": "stdout",
          "output_type": "stream",
          "text": [
            "[('MSFT', 69), ('WMT', 75.32), ('AAPL', 144.09), ('FB', 150), ('GOOGL', 911.71)]\n"
          ]
        }
      ],
      "source": [
        "price_list = [('AAPL', 144.09), ('GOOGL', 911.71), ('MSFT', 69), ('FB', 150), ('WMT', 75.32)]\n",
        "price_list.sort(key = lambda x: x[1])\n",
        "print (price_list)"
      ]
    },
    {
      "cell_type": "code",
      "execution_count": 95,
      "metadata": {
        "colab": {
          "base_uri": "https://localhost:8080/"
        },
        "id": "8_mPHiA0QeAq",
        "outputId": "cfa15b9a-3a01-47fb-dfb8-f81efe09fc6a"
      },
      "outputs": [
        {
          "name": "stdout",
          "output_type": "stream",
          "text": [
            "[('CIN', 3.14), ('UNO', 22.3), ('DOS', 41), ('TRES', 87.5), ('C', 144)]\n"
          ]
        }
      ],
      "source": [
        "price_list = [('UNO', 22.3), ('DOS', 41), ('TRES', 87.5), ('C', 144), ('CIN', 3.14)]\n",
        "price_list.sort(key = lambda x: x[1])\n",
        "print (price_list)"
      ]
    },
    {
      "cell_type": "markdown",
      "metadata": {
        "id": "WlhqZRIaQllC"
      },
      "source": [
        "Class\n",
        "A class is a type of data, just like a string, float, or list. When we create an object of that data type, we call it an instance of a class.\n",
        "\n",
        "In Python, everything is an object - everything is an instance of some class. The data stored inside an object are called attributes, and the functions which are associated with the object are called methods.\n",
        "\n",
        "For example, as mentioned above, a list is an object of the \"list\" class, and it has a method list.sort().\n",
        "\n",
        "We can create our own objects by defining a class. We would do this when it's helpful to group certain functions together. For example, we define a class named \"Stock\" here:"
      ]
    },
    {
      "cell_type": "code",
      "execution_count": 96,
      "metadata": {
        "id": "mvVubD_9QuwZ"
      },
      "outputs": [],
      "source": [
        "class Stock:\n",
        "    def __init__(self, ticker, open, close, volume):\n",
        "        self.ticker = ticker\n",
        "        self.open = open\n",
        "        self.close = close\n",
        "        self.volume = volume\n",
        "        self.rate_return = float(close)/open - 1\n",
        "\n",
        "    def update(self, open, close):\n",
        "        self.open = open\n",
        "        self.close = close\n",
        "        self.rate_return = float(self.close)/self.open - 1\n",
        "\n",
        "    def print_return(self):\n",
        "        print (self.rate_return)"
      ]
    },
    {
      "cell_type": "code",
      "execution_count": 97,
      "metadata": {
        "id": "bJA6nTdOTPjF"
      },
      "outputs": [],
      "source": [
        "apple  = Stock('AAPL', 143.69, 144.09, 20109375)\n",
        "google = Stock('GOOGL', 898.7, 911.7, 1561616)"
      ]
    },
    {
      "cell_type": "code",
      "execution_count": 98,
      "metadata": {
        "colab": {
          "base_uri": "https://localhost:8080/"
        },
        "id": "jTOAjn7GTWLd",
        "outputId": "08085a69-e796-4adb-8083-fb58fe293f5c"
      },
      "outputs": [
        {
          "name": "stdout",
          "output_type": "stream",
          "text": [
            "0.014465338822744034\n",
            "0.0006573181419806673\n"
          ]
        }
      ],
      "source": [
        "apple.ticker\n",
        "google.print_return()\n",
        "google.update(912.8,913.4)\n",
        "google.print_return()"
      ]
    },
    {
      "cell_type": "code",
      "execution_count": 99,
      "metadata": {
        "colab": {
          "base_uri": "https://localhost:8080/",
          "height": 35
        },
        "id": "jHluaJJvTmBM",
        "outputId": "5abb2b26-d886-4acb-933a-1b5d6c0b0bc5"
      },
      "outputs": [
        {
          "data": {
            "text/plain": [
              "'Tim Cook'"
            ]
          },
          "execution_count": 99,
          "metadata": {},
          "output_type": "execute_result"
        }
      ],
      "source": [
        "apple.ceo = 'Tim Cook'\n",
        "apple.ceo"
      ]
    },
    {
      "cell_type": "code",
      "execution_count": 100,
      "metadata": {
        "colab": {
          "base_uri": "https://localhost:8080/"
        },
        "id": "e-WMi5h_Tn9N",
        "outputId": "7bb6c010-61af-43ef-c42f-7ab0a8efcc47"
      },
      "outputs": [
        {
          "data": {
            "text/plain": [
              "['__class__',\n",
              " '__delattr__',\n",
              " '__dict__',\n",
              " '__dir__',\n",
              " '__doc__',\n",
              " '__eq__',\n",
              " '__format__',\n",
              " '__ge__',\n",
              " '__getattribute__',\n",
              " '__gt__',\n",
              " '__hash__',\n",
              " '__init__',\n",
              " '__init_subclass__',\n",
              " '__le__',\n",
              " '__lt__',\n",
              " '__module__',\n",
              " '__ne__',\n",
              " '__new__',\n",
              " '__reduce__',\n",
              " '__reduce_ex__',\n",
              " '__repr__',\n",
              " '__setattr__',\n",
              " '__sizeof__',\n",
              " '__str__',\n",
              " '__subclasshook__',\n",
              " '__weakref__',\n",
              " 'ceo',\n",
              " 'close',\n",
              " 'open',\n",
              " 'print_return',\n",
              " 'rate_return',\n",
              " 'ticker',\n",
              " 'update',\n",
              " 'volume']"
            ]
          },
          "execution_count": 100,
          "metadata": {},
          "output_type": "execute_result"
        }
      ],
      "source": [
        "dir(apple)"
      ]
    },
    {
      "cell_type": "code",
      "execution_count": 101,
      "metadata": {
        "id": "Cv-1ECl2a35H"
      },
      "outputs": [],
      "source": [
        "class Producto:\n",
        "    def __init__(self, nombre, referencia, precio, inventario):\n",
        "        self.nombre = nombre\n",
        "        self.referencia = referencia\n",
        "        self.precio = precio\n",
        "        self.inventario = inventario\n",
        "        self.valor_inventario = float((precio)*inventario)\n",
        "\n",
        "    def update(self, precio, inventario):\n",
        "        self.precio = precio\n",
        "        self.inventario = inventario\n",
        "        self.valor_inventario = float((precio)*inventario)\n",
        "\n",
        "    def print_return(self):\n",
        "        print (self.rate_return)"
      ]
    },
    {
      "cell_type": "code",
      "execution_count": 102,
      "metadata": {
        "id": "RJ6GkU_lc8rR"
      },
      "outputs": [],
      "source": [
        "HG11  = Producto('AUDIFONOS HG11', 'HG11', 180000, 25)\n",
        "VX7 = Producto('MOUSE VX7', 'VX7', 59000, 2)"
      ]
    },
    {
      "cell_type": "code",
      "execution_count": 103,
      "metadata": {
        "colab": {
          "base_uri": "https://localhost:8080/"
        },
        "id": "c0z2eew-eWDQ",
        "outputId": "776c8d58-b86c-4a53-d6c9-777a21d9091e"
      },
      "outputs": [
        {
          "data": {
            "text/plain": [
              "6525454522"
            ]
          },
          "execution_count": 103,
          "metadata": {},
          "output_type": "execute_result"
        }
      ],
      "source": [
        "HG11.EAN = 6525454522\n",
        "HG11.EAN"
      ]
    },
    {
      "cell_type": "code",
      "execution_count": 104,
      "metadata": {
        "colab": {
          "base_uri": "https://localhost:8080/"
        },
        "id": "syZF5HJpegRp",
        "outputId": "f187be7c-81ee-42d1-a9c5-95063fd18dde"
      },
      "outputs": [
        {
          "data": {
            "text/plain": [
              "['EAN',\n",
              " '__class__',\n",
              " '__delattr__',\n",
              " '__dict__',\n",
              " '__dir__',\n",
              " '__doc__',\n",
              " '__eq__',\n",
              " '__format__',\n",
              " '__ge__',\n",
              " '__getattribute__',\n",
              " '__gt__',\n",
              " '__hash__',\n",
              " '__init__',\n",
              " '__init_subclass__',\n",
              " '__le__',\n",
              " '__lt__',\n",
              " '__module__',\n",
              " '__ne__',\n",
              " '__new__',\n",
              " '__reduce__',\n",
              " '__reduce_ex__',\n",
              " '__repr__',\n",
              " '__setattr__',\n",
              " '__sizeof__',\n",
              " '__str__',\n",
              " '__subclasshook__',\n",
              " '__weakref__',\n",
              " 'inventario',\n",
              " 'nombre',\n",
              " 'precio',\n",
              " 'print_return',\n",
              " 'referencia',\n",
              " 'update',\n",
              " 'valor_inventario']"
            ]
          },
          "execution_count": 104,
          "metadata": {},
          "output_type": "execute_result"
        }
      ],
      "source": [
        "dir(HG11)"
      ]
    },
    {
      "cell_type": "markdown",
      "metadata": {
        "id": "ork0jQXjelvy"
      },
      "source": [
        "Inheritance\n",
        "Inheritance is a way of arranging classes in a hierarchy from the most general to the most specific. A \"child\" class is a more specific type of a \"parent\" class because a child class will inherit all the attribues and methods of its parent. For example, we define a class named \"Child\" which inherits \"Stock\":"
      ]
    },
    {
      "cell_type": "code",
      "execution_count": 105,
      "metadata": {
        "id": "bgFjEtKZe_ZS"
      },
      "outputs": [],
      "source": [
        "class Child(Stock):\n",
        "    def __init__(self, name):\n",
        "        self.name = name"
      ]
    },
    {
      "cell_type": "code",
      "execution_count": 106,
      "metadata": {
        "colab": {
          "base_uri": "https://localhost:8080/"
        },
        "id": "dTd5Z-ukfFoB",
        "outputId": "4d12153a-e4ef-4675-db09-88008fae88a0"
      },
      "outputs": [
        {
          "name": "stdout",
          "output_type": "stream",
          "text": [
            "AA\n",
            "100\n",
            "102\n",
            "0.020000000000000018\n",
            "None\n"
          ]
        }
      ],
      "source": [
        "aa = Child('AA')\n",
        "print (aa.name)\n",
        "aa.update(100, 102)\n",
        "print (aa.open)\n",
        "print (aa.close)\n",
        "print (aa.print_return())"
      ]
    },
    {
      "cell_type": "code",
      "execution_count": 107,
      "metadata": {
        "id": "afTSZwfefbjT"
      },
      "outputs": [],
      "source": [
        "class Producto2(Producto):\n",
        "    def __init__(self, nombre):\n",
        "        self.nombre = nombre"
      ]
    },
    {
      "cell_type": "code",
      "execution_count": 108,
      "metadata": {
        "colab": {
          "base_uri": "https://localhost:8080/"
        },
        "id": "5oDP-9L_gNaC",
        "outputId": "eb90a2ec-03b4-4ae1-9c17-a81feeab235f"
      },
      "outputs": [
        {
          "name": "stdout",
          "output_type": "stream",
          "text": [
            "ADIFONOS HG15\n",
            "140000\n",
            "16\n",
            "2240000.0\n"
          ]
        }
      ],
      "source": [
        "HG15 = Producto2('ADIFONOS HG15')\n",
        "print(HG15.nombre)\n",
        "HG15.update(140000, 16)\n",
        "print(HG15.precio)\n",
        "print(HG15.inventario)\n",
        "print(HG15.valor_inventario)"
      ]
    },
    {
      "cell_type": "markdown",
      "metadata": {
        "id": "yZvE6-XNiuuV"
      },
      "source": [
        "#**NumPy and Basic Pandas**"
      ]
    },
    {
      "cell_type": "markdown",
      "metadata": {
        "id": "n-IxeG0si6qv"
      },
      "source": [
        "NumPy\n",
        "NumPy is the core library for scientific computing in Python. It provides a high-performance multidimensional array object, and tools for working with these arrays. It also has strong integration with Pandas, which is another powerful tool for manipulating financial data.\n",
        "\n",
        "Python packages like NumPy and Pandas contain classes and methods which we can use by importing the package:"
      ]
    },
    {
      "cell_type": "code",
      "execution_count": 109,
      "metadata": {
        "id": "3khyB6gri68P"
      },
      "outputs": [],
      "source": [
        "import numpy as np"
      ]
    },
    {
      "cell_type": "markdown",
      "metadata": {
        "id": "BTyXg9QVjAtW"
      },
      "source": [
        "Basic NumPy Arrays\n",
        "A NumPy array is a grid of values, all of the same type, and is indexed by a tuple of nonnegative integers. Here we make an array by passing a list of Apple stock prices:"
      ]
    },
    {
      "cell_type": "code",
      "execution_count": 110,
      "metadata": {
        "colab": {
          "base_uri": "https://localhost:8080/"
        },
        "id": "pMh8hCeDjBSd",
        "outputId": "04509e58-1b17-4976-ac6e-927c33775271"
      },
      "outputs": [
        {
          "name": "stdout",
          "output_type": "stream",
          "text": [
            "[143.73 145.83 143.68 144.02 143.5  142.62] <class 'numpy.ndarray'>\n"
          ]
        }
      ],
      "source": [
        "price_list = [143.73, 145.83, 143.68, 144.02, 143.5, 142.62]\n",
        "price_array = np.array(price_list)\n",
        "print (price_array, type(price_array))"
      ]
    },
    {
      "cell_type": "code",
      "execution_count": 111,
      "metadata": {
        "colab": {
          "base_uri": "https://localhost:8080/"
        },
        "id": "91KsOaH4jH5m",
        "outputId": "aa2285e7-ad4d-4a1f-92f5-d3a884389e51"
      },
      "outputs": [
        {
          "name": "stdout",
          "output_type": "stream",
          "text": [
            "[ 22.5   22.65  41.5  155.4 ] <class 'numpy.ndarray'>\n"
          ]
        }
      ],
      "source": [
        "precio_list = [22.5,22.65,41.5,155.4]\n",
        "precio_array = np.array(precio_list)\n",
        "print (precio_array, type(precio_array))"
      ]
    },
    {
      "cell_type": "markdown",
      "metadata": {
        "id": "F19jmlGbjS2a"
      },
      "source": [
        "Notice that the type of array is \"ndarray\" which is a multi-dimensional array. If we pass np.array() a list of lists, it will create a 2-dimensional array."
      ]
    },
    {
      "cell_type": "code",
      "execution_count": 112,
      "metadata": {
        "colab": {
          "base_uri": "https://localhost:8080/"
        },
        "id": "25Abj8BsjUjz",
        "outputId": "e697314c-6c12-4cd3-98ce-3ded40920b64"
      },
      "outputs": [
        {
          "name": "stdout",
          "output_type": "stream",
          "text": [
            "[[1 3]\n",
            " [2 4]] <class 'numpy.ndarray'>\n"
          ]
        }
      ],
      "source": [
        "Ar = np.array([[1,3], [2,4]])\n",
        "print (Ar, type(Ar))"
      ]
    },
    {
      "cell_type": "code",
      "execution_count": 113,
      "metadata": {
        "colab": {
          "base_uri": "https://localhost:8080/"
        },
        "id": "wLP9zAhujZ2F",
        "outputId": "6d8d0fde-5ae8-48fb-897d-b0a9766ddcb2"
      },
      "outputs": [
        {
          "name": "stdout",
          "output_type": "stream",
          "text": [
            "[[11 33 65]\n",
            " [22 44 55]] <class 'numpy.ndarray'>\n"
          ]
        }
      ],
      "source": [
        "Ar = np.array([[11,33,65], [22,44,55]])\n",
        "print (Ar, type(Ar))"
      ]
    },
    {
      "cell_type": "markdown",
      "metadata": {
        "id": "zWVW3c6XjiXP"
      },
      "source": [
        "We get the dimensions of an ndarray using the .shape attribute:"
      ]
    },
    {
      "cell_type": "code",
      "execution_count": 114,
      "metadata": {
        "colab": {
          "base_uri": "https://localhost:8080/"
        },
        "id": "WF2rG1zYjipb",
        "outputId": "cfd122f9-a575-4df5-97d6-ed81af6b8297"
      },
      "outputs": [
        {
          "name": "stdout",
          "output_type": "stream",
          "text": [
            "(2, 3)\n"
          ]
        }
      ],
      "source": [
        "print( Ar.shape)"
      ]
    },
    {
      "cell_type": "code",
      "execution_count": 115,
      "metadata": {
        "colab": {
          "base_uri": "https://localhost:8080/"
        },
        "id": "LP0ZG7Vrj1ud",
        "outputId": "3dbf4db7-8070-4130-d4ee-89e6c1df83bc"
      },
      "outputs": [
        {
          "name": "stdout",
          "output_type": "stream",
          "text": [
            "(2, 3)\n"
          ]
        }
      ],
      "source": [
        "print( Ar.shape)"
      ]
    },
    {
      "cell_type": "markdown",
      "metadata": {
        "id": "novB4Mdpj3J9"
      },
      "source": [
        "If we create an 2-dimensional array (i.e. matrix), each row can be accessed by index:"
      ]
    },
    {
      "cell_type": "code",
      "execution_count": 116,
      "metadata": {
        "colab": {
          "base_uri": "https://localhost:8080/"
        },
        "id": "hzg7LOmsj6WE",
        "outputId": "c524a127-06ab-4151-fa82-e326617084e6"
      },
      "outputs": [
        {
          "name": "stdout",
          "output_type": "stream",
          "text": [
            "[11 33 65]\n",
            "[22 44 55]\n"
          ]
        }
      ],
      "source": [
        "print (Ar[0])\n",
        "print( Ar[1])"
      ]
    },
    {
      "cell_type": "code",
      "execution_count": 117,
      "metadata": {
        "colab": {
          "base_uri": "https://localhost:8080/"
        },
        "id": "NEG_VW_VkDAV",
        "outputId": "4dc6131c-a139-4b01-e9cc-45200f5fa991"
      },
      "outputs": [
        {
          "name": "stdout",
          "output_type": "stream",
          "text": [
            "[11 33 65]\n",
            "[22 44 55]\n"
          ]
        }
      ],
      "source": [
        "print (Ar[0])\n",
        "print( Ar[1])"
      ]
    },
    {
      "cell_type": "markdown",
      "metadata": {
        "id": "PXaa8QhYkFk1"
      },
      "source": [
        "If we want to access the matrix by column instead:"
      ]
    },
    {
      "cell_type": "code",
      "execution_count": 118,
      "metadata": {
        "colab": {
          "base_uri": "https://localhost:8080/"
        },
        "id": "Gb8CL_LCkHwU",
        "outputId": "d6a58047-fd4a-47fe-a0ca-06509b9a41f1"
      },
      "outputs": [
        {
          "name": "stdout",
          "output_type": "stream",
          "text": [
            "First column: [11 22]\n",
            "Second column: [33 44]\n"
          ]
        }
      ],
      "source": [
        "print ('First column:', Ar[:,0])\n",
        "print ('Second column:', Ar[:,1])"
      ]
    },
    {
      "cell_type": "code",
      "execution_count": 119,
      "metadata": {
        "colab": {
          "base_uri": "https://localhost:8080/"
        },
        "id": "3jG2wnR6kNQ2",
        "outputId": "b2d548be-f65e-449d-e77e-ee045f661735"
      },
      "outputs": [
        {
          "name": "stdout",
          "output_type": "stream",
          "text": [
            "First column: [11 22]\n",
            "Second column: [33 44]\n",
            "Third column: [65 55]\n"
          ]
        }
      ],
      "source": [
        "print ('First column:', Ar[:,0])\n",
        "print ('Second column:', Ar[:,1])\n",
        "print ('Third column:', Ar[:,2])"
      ]
    },
    {
      "cell_type": "markdown",
      "metadata": {
        "id": "ZoRKCSCDlu2s"
      },
      "source": [
        "Array Functions\n",
        "Some functions built in NumPy that allow us to perform calculations on arrays. For example, we can apply the natural logarithm to each element of an array:"
      ]
    },
    {
      "cell_type": "code",
      "execution_count": 120,
      "metadata": {
        "colab": {
          "base_uri": "https://localhost:8080/"
        },
        "id": "msF1RnD2lwRY",
        "outputId": "ad2abac4-8803-4029-f0f5-025aad10d2da"
      },
      "outputs": [
        {
          "data": {
            "text/plain": [
              "array([4.96793654, 4.98244156, 4.9675886 , 4.96995218, 4.96633504,\n",
              "       4.96018375])"
            ]
          },
          "execution_count": 120,
          "metadata": {},
          "output_type": "execute_result"
        }
      ],
      "source": [
        "np.log(price_array)"
      ]
    },
    {
      "cell_type": "code",
      "execution_count": 121,
      "metadata": {
        "colab": {
          "base_uri": "https://localhost:8080/"
        },
        "id": "d6aDvXaVl051",
        "outputId": "1e0c0b44-4d92-4af0-8972-915b703ee82e"
      },
      "outputs": [
        {
          "data": {
            "text/plain": [
              "array([3.11351531, 3.12015985, 3.72569343, 5.04600244])"
            ]
          },
          "execution_count": 121,
          "metadata": {},
          "output_type": "execute_result"
        }
      ],
      "source": [
        "np.log(precio_array)"
      ]
    },
    {
      "cell_type": "markdown",
      "metadata": {
        "id": "Q2XolXpjma-I"
      },
      "source": [
        "Other functions return a single value:"
      ]
    },
    {
      "cell_type": "code",
      "execution_count": 122,
      "metadata": {
        "colab": {
          "base_uri": "https://localhost:8080/"
        },
        "id": "7SIj-np8mbQU",
        "outputId": "8e080e9f-df39-4324-ef65-b4b8567f5c04"
      },
      "outputs": [
        {
          "name": "stdout",
          "output_type": "stream",
          "text": [
            "0.9673790478515796\n",
            "863.38\n",
            "145.83\n"
          ]
        }
      ],
      "source": [
        "np.mean(price_array)\n",
        "print(np.std(price_array))\n",
        "print(np.sum(price_array))\n",
        "print(np.max(price_array))"
      ]
    },
    {
      "cell_type": "code",
      "execution_count": 123,
      "metadata": {
        "colab": {
          "base_uri": "https://localhost:8080/"
        },
        "id": "BrIEE6UjmnfG",
        "outputId": "8da1d863-7d9a-45b5-a787-870080bdece4"
      },
      "outputs": [
        {
          "name": "stdout",
          "output_type": "stream",
          "text": [
            "55.325473054913864\n",
            "242.05\n",
            "155.4\n"
          ]
        }
      ],
      "source": [
        "np.mean(precio_array)\n",
        "print(np.std(precio_array))\n",
        "print(np.sum(precio_array))\n",
        "print(np.max(precio_array))"
      ]
    },
    {
      "cell_type": "markdown",
      "metadata": {
        "id": "dXy-ozxlmve-"
      },
      "source": [
        "Pandas\n",
        "Pandas is one of the most powerful tools for dealing with financial data. First we need to import Pandas:"
      ]
    },
    {
      "cell_type": "code",
      "execution_count": 124,
      "metadata": {
        "id": "fbSfLyewmv4m"
      },
      "outputs": [
        {
          "ename": "ModuleNotFoundError",
          "evalue": "No module named 'pandas'",
          "output_type": "error",
          "traceback": [
            "\u001b[1;31m---------------------------------------------------------------------------\u001b[0m",
            "\u001b[1;31mModuleNotFoundError\u001b[0m                       Traceback (most recent call last)",
            "\u001b[1;32m<ipython-input-124-7dd3504c366f>\u001b[0m in \u001b[0;36m<module>\u001b[1;34m\u001b[0m\n\u001b[1;32m----> 1\u001b[1;33m \u001b[1;32mimport\u001b[0m \u001b[0mpandas\u001b[0m \u001b[1;32mas\u001b[0m \u001b[0mpd\u001b[0m\u001b[1;33m\u001b[0m\u001b[1;33m\u001b[0m\u001b[0m\n\u001b[0m",
            "\u001b[1;31mModuleNotFoundError\u001b[0m: No module named 'pandas'"
          ]
        }
      ],
      "source": [
        "import pandas as pd"
      ]
    },
    {
      "cell_type": "markdown",
      "metadata": {
        "id": "tkPdvYDvmzDh"
      },
      "source": [
        "Series\n",
        "Series is a one-dimensional labeled array capable of holding any data type (integers, strings, float, Python object, etc.)\n",
        "\n",
        "We create a Series by calling pd.Series(data), where data can be a dictionary, an array or just a scalar value."
      ]
    },
    {
      "cell_type": "code",
      "execution_count": null,
      "metadata": {
        "colab": {
          "base_uri": "https://localhost:8080/"
        },
        "id": "ncZcISBgmzgP",
        "outputId": "3ac5d92b-0f10-447a-e7d9-f3d329c1e31f"
      },
      "outputs": [
        {
          "name": "stdout",
          "output_type": "stream",
          "text": [
            "0    143.73\n",
            "1    145.83\n",
            "2    143.68\n",
            "3    144.02\n",
            "4    143.50\n",
            "5    142.62\n",
            "dtype: float64\n"
          ]
        }
      ],
      "source": [
        "price = [143.73, 145.83, 143.68, 144.02, 143.5, 142.62]\n",
        "s = pd.Series(price)\n",
        "print(s)"
      ]
    },
    {
      "cell_type": "code",
      "execution_count": null,
      "metadata": {
        "colab": {
          "base_uri": "https://localhost:8080/"
        },
        "id": "6696967km8f3",
        "outputId": "16c97f70-8180-47d3-a33e-c76377c2d347"
      },
      "outputs": [
        {
          "name": "stdout",
          "output_type": "stream",
          "text": [
            "0     22.50\n",
            "1     22.65\n",
            "2     41.50\n",
            "3    155.40\n",
            "dtype: float64\n"
          ]
        }
      ],
      "source": [
        "precio = [22.5,22.65,41.5,155.4]\n",
        "s = pd.Series(precio)\n",
        "print(s)"
      ]
    },
    {
      "cell_type": "markdown",
      "metadata": {
        "id": "brG8xxojnH8F"
      },
      "source": [
        "We can customize the indices of a new Series:\n",
        "\n"
      ]
    },
    {
      "cell_type": "code",
      "execution_count": null,
      "metadata": {
        "colab": {
          "base_uri": "https://localhost:8080/"
        },
        "id": "Q08b7W5WnIFC",
        "outputId": "cb6fa19e-d7cb-47ce-f110-637c16dcd5ad"
      },
      "outputs": [
        {
          "name": "stdout",
          "output_type": "stream",
          "text": [
            "a    143.73\n",
            "b    145.83\n",
            "c    143.68\n",
            "d    144.02\n",
            "e    143.50\n",
            "f    142.62\n",
            "dtype: float64\n"
          ]
        }
      ],
      "source": [
        "s = pd.Series(price, index = ['a', 'b', 'c', 'd', 'e', 'f'])\n",
        "print (s)"
      ]
    },
    {
      "cell_type": "code",
      "execution_count": null,
      "metadata": {
        "colab": {
          "base_uri": "https://localhost:8080/"
        },
        "id": "LflSn549nNM5",
        "outputId": "c3cf874a-9348-4d6d-817c-0a823620b8a5"
      },
      "outputs": [
        {
          "name": "stdout",
          "output_type": "stream",
          "text": [
            "w     22.50\n",
            "x     22.65\n",
            "y     41.50\n",
            "z    155.40\n",
            "dtype: float64\n"
          ]
        }
      ],
      "source": [
        "s2 = pd.Series(precio, index = ['w', 'x', 'y', 'z'])\n",
        "print (s2)"
      ]
    },
    {
      "cell_type": "markdown",
      "metadata": {
        "id": "ZhIgcbH8nV7F"
      },
      "source": [
        "Or we can change the indices of an existing Series:"
      ]
    },
    {
      "cell_type": "code",
      "execution_count": null,
      "metadata": {
        "colab": {
          "base_uri": "https://localhost:8080/"
        },
        "id": "8okxwqXhnX8O",
        "outputId": "4c52fefe-300b-4455-c8ed-41d568a17679"
      },
      "outputs": [
        {
          "name": "stdout",
          "output_type": "stream",
          "text": [
            "6    143.73\n",
            "5    145.83\n",
            "4    143.68\n",
            "3    144.02\n",
            "2    143.50\n",
            "1    142.62\n",
            "dtype: float64\n"
          ]
        }
      ],
      "source": [
        "s.index = [6,5,4,3,2,1]\n",
        "print (s)"
      ]
    },
    {
      "cell_type": "code",
      "execution_count": null,
      "metadata": {
        "colab": {
          "base_uri": "https://localhost:8080/"
        },
        "id": "drputPPIngLF",
        "outputId": "a2abee79-034a-4f27-aa4a-91aa68d05982"
      },
      "outputs": [
        {
          "name": "stdout",
          "output_type": "stream",
          "text": [
            "4     22.50\n",
            "3     22.65\n",
            "2     41.50\n",
            "1    155.40\n",
            "dtype: float64\n"
          ]
        }
      ],
      "source": [
        "s2.index = [4,3,2,1]\n",
        "print (s2)"
      ]
    },
    {
      "cell_type": "markdown",
      "metadata": {
        "id": "T6JHvru2odzP"
      },
      "source": [
        "Series is like a list since it can be sliced by index:"
      ]
    },
    {
      "cell_type": "code",
      "execution_count": null,
      "metadata": {
        "colab": {
          "base_uri": "https://localhost:8080/"
        },
        "id": "URM67FdVogG-",
        "outputId": "5499ba43-689a-40e8-cd7e-31ac70d12c3c"
      },
      "outputs": [
        {
          "name": "stdout",
          "output_type": "stream",
          "text": [
            "5    145.83\n",
            "4    143.68\n",
            "3    144.02\n",
            "2    143.50\n",
            "1    142.62\n",
            "dtype: float64\n",
            "6    143.73\n",
            "5    145.83\n",
            "4    143.68\n",
            "3    144.02\n",
            "dtype: float64\n"
          ]
        }
      ],
      "source": [
        "print (s[1:])\n",
        "print (s[:-2])"
      ]
    },
    {
      "cell_type": "code",
      "execution_count": null,
      "metadata": {
        "colab": {
          "base_uri": "https://localhost:8080/"
        },
        "id": "aFd6aoVDolOv",
        "outputId": "83b96d64-3448-4126-8b3f-18c4ea90cdf7"
      },
      "outputs": [
        {
          "name": "stdout",
          "output_type": "stream",
          "text": [
            "2     41.5\n",
            "1    155.4\n",
            "dtype: float64\n",
            "4    22.5\n",
            "dtype: float64\n"
          ]
        }
      ],
      "source": [
        "print (s2[2:])\n",
        "print (s2[:-3])"
      ]
    },
    {
      "cell_type": "markdown",
      "metadata": {
        "id": "xdpIntFSoxM0"
      },
      "source": [
        "Series is also like a dictionary whose values can be set or fetched by index label:"
      ]
    },
    {
      "cell_type": "code",
      "execution_count": null,
      "metadata": {
        "colab": {
          "base_uri": "https://localhost:8080/"
        },
        "id": "Mr6Djv3RoyqD",
        "outputId": "14bbac95-22f0-4595-9117-e3c5ab4d47aa"
      },
      "outputs": [
        {
          "name": "stdout",
          "output_type": "stream",
          "text": [
            "143.68\n",
            "6    143.73\n",
            "5    145.83\n",
            "4      0.00\n",
            "3    144.02\n",
            "2    143.50\n",
            "1    142.62\n",
            "dtype: float64\n"
          ]
        }
      ],
      "source": [
        "print (s[4])\n",
        "s[4] = 0\n",
        "print (s)"
      ]
    },
    {
      "cell_type": "code",
      "execution_count": null,
      "metadata": {
        "colab": {
          "base_uri": "https://localhost:8080/"
        },
        "id": "JZVRzZlXo4uu",
        "outputId": "fed20261-d8c2-4ad4-8dba-495f6d10cf9c"
      },
      "outputs": [
        {
          "name": "stdout",
          "output_type": "stream",
          "text": [
            "41.5\n",
            "4     22.50\n",
            "3     22.65\n",
            "2      0.00\n",
            "1    155.40\n",
            "dtype: float64\n"
          ]
        }
      ],
      "source": [
        "print (s2[2])\n",
        "s2[2] = 0\n",
        "print (s2)"
      ]
    },
    {
      "cell_type": "markdown",
      "metadata": {
        "id": "BFNHmLoWo_p4"
      },
      "source": [
        "Series can also have a name attribute, which will be used when we make up a Pandas DataFrame using several series."
      ]
    },
    {
      "cell_type": "code",
      "execution_count": null,
      "metadata": {
        "colab": {
          "base_uri": "https://localhost:8080/"
        },
        "id": "tL_iLE4JpBVH",
        "outputId": "e13358e8-63c0-4bbf-badc-181af9d7d6a2"
      },
      "outputs": [
        {
          "name": "stdout",
          "output_type": "stream",
          "text": [
            "0    143.73\n",
            "1    145.83\n",
            "2    143.68\n",
            "3    144.02\n",
            "4    143.50\n",
            "5    142.62\n",
            "Name: Apple Prices, dtype: float64\n",
            "Apple Prices\n"
          ]
        }
      ],
      "source": [
        "s = pd.Series(price, name = 'Apple Prices')\n",
        "print (s)\n",
        "print (s.name)"
      ]
    },
    {
      "cell_type": "code",
      "execution_count": null,
      "metadata": {
        "colab": {
          "base_uri": "https://localhost:8080/"
        },
        "id": "4zmiIU_fpF_q",
        "outputId": "8b727710-8f24-4de3-965a-44a9e0a5357b"
      },
      "outputs": [
        {
          "name": "stdout",
          "output_type": "stream",
          "text": [
            "0     22.50\n",
            "1     22.65\n",
            "2     41.50\n",
            "3    155.40\n",
            "Name: Precios de productos, dtype: float64\n",
            "Precios de productos\n"
          ]
        }
      ],
      "source": [
        "s2 = pd.Series(precio, name = 'Precios de productos')\n",
        "print ((s2))\n",
        "print ((s2.name))"
      ]
    },
    {
      "cell_type": "markdown",
      "metadata": {
        "id": "Il6M5ZiqpQ_2"
      },
      "source": [
        "We can get the statistical summaries of a Series:"
      ]
    },
    {
      "cell_type": "code",
      "execution_count": null,
      "metadata": {
        "colab": {
          "base_uri": "https://localhost:8080/"
        },
        "id": "Tgtcxf53pSMQ",
        "outputId": "76ea5ad0-86cb-433d-926e-924b5846db69"
      },
      "outputs": [
        {
          "name": "stdout",
          "output_type": "stream",
          "text": [
            "count      6.000000\n",
            "mean     143.896667\n",
            "std        1.059711\n",
            "min      142.620000\n",
            "25%      143.545000\n",
            "50%      143.705000\n",
            "75%      143.947500\n",
            "max      145.830000\n",
            "Name: Apple Prices, dtype: float64\n"
          ]
        }
      ],
      "source": [
        "print (s.describe())"
      ]
    },
    {
      "cell_type": "code",
      "execution_count": null,
      "metadata": {
        "colab": {
          "base_uri": "https://localhost:8080/"
        },
        "id": "ueyjPfN_pVLX",
        "outputId": "41f659e2-e915-407e-e9ac-07c0b471fabc"
      },
      "outputs": [
        {
          "name": "stdout",
          "output_type": "stream",
          "text": [
            "count      4.000000\n",
            "mean      60.512500\n",
            "std       63.884354\n",
            "min       22.500000\n",
            "25%       22.612500\n",
            "50%       32.075000\n",
            "75%       69.975000\n",
            "max      155.400000\n",
            "Name: Precios de productos, dtype: float64\n"
          ]
        }
      ],
      "source": [
        "print (s2.describe())"
      ]
    },
    {
      "cell_type": "markdown",
      "metadata": {
        "id": "F9yyeTiZpnZK"
      },
      "source": [
        "Time Index\n",
        "Pandas has a built-in function specifically for creating date indices: pd.date_range(). We use it to create a new index for our Series:"
      ]
    },
    {
      "cell_type": "code",
      "execution_count": null,
      "metadata": {
        "colab": {
          "base_uri": "https://localhost:8080/"
        },
        "id": "uCv3GxLMpnyy",
        "outputId": "63b72efb-b12b-41a9-f8b6-b83462581929"
      },
      "outputs": [
        {
          "name": "stdout",
          "output_type": "stream",
          "text": [
            "DatetimeIndex(['2017-01-01', '2017-01-02', '2017-01-03', '2017-01-04',\n",
            "               '2017-01-05', '2017-01-06'],\n",
            "              dtype='datetime64[ns]', freq='D')\n",
            "2017-01-01    143.73\n",
            "2017-01-02    145.83\n",
            "2017-01-03    143.68\n",
            "2017-01-04    144.02\n",
            "2017-01-05    143.50\n",
            "2017-01-06    142.62\n",
            "Freq: D, Name: Apple Prices, dtype: float64\n"
          ]
        }
      ],
      "source": [
        "time_index = pd.date_range('2017-01-01', periods = len(s), freq = 'D')\n",
        "print (time_index)\n",
        "s.index = time_index\n",
        "print (s)"
      ]
    },
    {
      "cell_type": "code",
      "execution_count": null,
      "metadata": {
        "colab": {
          "base_uri": "https://localhost:8080/"
        },
        "id": "avP3Hy5Wps6o",
        "outputId": "0617e4cb-ef3f-4dd4-d2f0-656747aa5127"
      },
      "outputs": [
        {
          "name": "stdout",
          "output_type": "stream",
          "text": [
            "DatetimeIndex(['2017-01-01', '2017-01-02', '2017-01-03', '2017-01-04'], dtype='datetime64[ns]', freq='D')\n",
            "2017-01-01     22.50\n",
            "2017-01-02     22.65\n",
            "2017-01-03     41.50\n",
            "2017-01-04    155.40\n",
            "Freq: D, Name: Precios de productos, dtype: float64\n"
          ]
        }
      ],
      "source": [
        "time_index2 = pd.date_range('2017-01-01', periods = len(s2), freq = 'D')\n",
        "print (time_index2)\n",
        "s2.index = time_index2\n",
        "print (s2)"
      ]
    },
    {
      "cell_type": "markdown",
      "metadata": {
        "id": "lj24GdVAtIPU"
      },
      "source": [
        "Series are usually accessed using the iloc[] and loc[] methods. iloc[] is used to access elements by integer index, and loc[] is used to access the index of the series.\n",
        "\n",
        "iloc[] is necessary when the index of a series are integers, take our previous defined series as example:"
      ]
    },
    {
      "cell_type": "code",
      "execution_count": null,
      "metadata": {
        "colab": {
          "base_uri": "https://localhost:8080/"
        },
        "id": "o_TgYVMotI9Y",
        "outputId": "66869cd6-1c54-4e3f-f48f-5c742de9f2c8"
      },
      "outputs": [
        {
          "name": "stdout",
          "output_type": "stream",
          "text": [
            "6    143.73\n",
            "5    145.83\n",
            "4    143.68\n",
            "3    144.02\n",
            "2    143.50\n",
            "1    142.62\n",
            "Name: Apple Prices, dtype: float64\n",
            "142.62\n"
          ]
        }
      ],
      "source": [
        "s.index = [6,5,4,3,2,1]\n",
        "print (s)\n",
        "print (s[1])"
      ]
    },
    {
      "cell_type": "code",
      "execution_count": null,
      "metadata": {
        "colab": {
          "base_uri": "https://localhost:8080/"
        },
        "id": "RzlZKE_gtPkT",
        "outputId": "5031f929-bd02-4719-d579-f2e9332f82fa"
      },
      "outputs": [
        {
          "name": "stdout",
          "output_type": "stream",
          "text": [
            "4     22.50\n",
            "3     22.65\n",
            "2     41.50\n",
            "1    155.40\n",
            "Name: Precios de productos, dtype: float64\n",
            "155.4\n"
          ]
        }
      ],
      "source": [
        "s2.index = [4,3,2,1]\n",
        "print (s2)\n",
        "print (s2[1])"
      ]
    },
    {
      "cell_type": "markdown",
      "metadata": {
        "id": "qiqXTsUytXwm"
      },
      "source": [
        "If we intended to take the second element of the series, we would make a mistake here, because the index are integers. In order to access to the element we want, we use iloc[] here:"
      ]
    },
    {
      "cell_type": "code",
      "execution_count": null,
      "metadata": {
        "colab": {
          "base_uri": "https://localhost:8080/"
        },
        "id": "i1IWO6A1tYKp",
        "outputId": "978844d4-1565-4294-8f74-b95e3f2df193"
      },
      "outputs": [
        {
          "name": "stdout",
          "output_type": "stream",
          "text": [
            "145.83\n"
          ]
        }
      ],
      "source": [
        "print (s.iloc[1])"
      ]
    },
    {
      "cell_type": "code",
      "execution_count": null,
      "metadata": {
        "colab": {
          "base_uri": "https://localhost:8080/"
        },
        "id": "I3E29LRBtihz",
        "outputId": "3dba91b3-a80a-41c5-d95c-d037d0bd4910"
      },
      "outputs": [
        {
          "name": "stdout",
          "output_type": "stream",
          "text": [
            "22.65\n"
          ]
        }
      ],
      "source": [
        "print (s2.iloc[1])"
      ]
    },
    {
      "cell_type": "markdown",
      "metadata": {
        "id": "QFAOTG_btwyp"
      },
      "source": [
        "While working with time series data, we often use time as the index. Pandas provides us with various methods to access the data by time index."
      ]
    },
    {
      "cell_type": "code",
      "execution_count": null,
      "metadata": {
        "colab": {
          "base_uri": "https://localhost:8080/"
        },
        "id": "dS-fMuPOtxJg",
        "outputId": "c5d70f91-a31a-4c71-a2a7-ecff421c58c7"
      },
      "outputs": [
        {
          "name": "stdout",
          "output_type": "stream",
          "text": [
            "143.68\n"
          ]
        }
      ],
      "source": [
        "s.index = time_index\n",
        "print (s['2017-01-03'])"
      ]
    },
    {
      "cell_type": "code",
      "execution_count": null,
      "metadata": {
        "colab": {
          "base_uri": "https://localhost:8080/"
        },
        "id": "26wqOT9Et1Jy",
        "outputId": "07e89ce5-d401-4932-80fe-89ac7eb877e2"
      },
      "outputs": [
        {
          "name": "stdout",
          "output_type": "stream",
          "text": [
            "41.5\n"
          ]
        }
      ],
      "source": [
        "s2.index = time_index2\n",
        "print (s2['2017-01-03'])"
      ]
    },
    {
      "cell_type": "markdown",
      "metadata": {
        "id": "rwo2SpV2t-YC"
      },
      "source": [
        "We can even access to a range of dates:"
      ]
    },
    {
      "cell_type": "code",
      "execution_count": null,
      "metadata": {
        "colab": {
          "base_uri": "https://localhost:8080/"
        },
        "id": "INg3883bt-7o",
        "outputId": "d873abc1-890f-49c1-e91e-e3aa4e2d143a"
      },
      "outputs": [
        {
          "name": "stdout",
          "output_type": "stream",
          "text": [
            "2017-01-02    145.83\n",
            "2017-01-03    143.68\n",
            "2017-01-04    144.02\n",
            "2017-01-05    143.50\n",
            "Freq: D, Name: Apple Prices, dtype: float64\n"
          ]
        }
      ],
      "source": [
        "print (s['2017-01-02':'2017-01-05'])"
      ]
    },
    {
      "cell_type": "code",
      "execution_count": null,
      "metadata": {
        "colab": {
          "base_uri": "https://localhost:8080/"
        },
        "id": "i93OHKFFuDfu",
        "outputId": "fbad60b9-9d61-4c8e-d3fb-ce98b5785090"
      },
      "outputs": [
        {
          "name": "stdout",
          "output_type": "stream",
          "text": [
            "2017-01-02     22.65\n",
            "2017-01-03     41.50\n",
            "2017-01-04    155.40\n",
            "Freq: D, Name: Precios de productos, dtype: float64\n"
          ]
        }
      ],
      "source": [
        "print (s2['2017-01-02':'2017-01-05'])"
      ]
    },
    {
      "cell_type": "markdown",
      "metadata": {
        "id": "LyHnuMmcuL8H"
      },
      "source": [
        "Series[] provides us a very flexible way to index data. We can add any condition in the square brackets:"
      ]
    },
    {
      "cell_type": "code",
      "execution_count": null,
      "metadata": {
        "colab": {
          "base_uri": "https://localhost:8080/"
        },
        "id": "clm0wH86uMTh",
        "outputId": "2da9a22a-3799-4908-cb82-90dbe4e32d27"
      },
      "outputs": [
        {
          "name": "stdout",
          "output_type": "stream",
          "text": [
            "2017-01-01    143.73\n",
            "2017-01-03    143.68\n",
            "2017-01-05    143.50\n",
            "2017-01-06    142.62\n",
            "Name: Apple Prices, dtype: float64\n",
            "2017-01-04    144.02\n",
            "Freq: D, Name: Apple Prices, dtype: float64\n"
          ]
        }
      ],
      "source": [
        "print (s[s < np.mean(s)])\n",
        "print (s[(s > np.mean(s)) & (s < np.mean(s) + 1.64*np.std(s))])"
      ]
    },
    {
      "cell_type": "code",
      "execution_count": null,
      "metadata": {
        "colab": {
          "base_uri": "https://localhost:8080/"
        },
        "id": "QmlrZOuxuPnT",
        "outputId": "1f917f5c-f4f6-4746-8c84-58fdad79d959"
      },
      "outputs": [
        {
          "name": "stdout",
          "output_type": "stream",
          "text": [
            "2017-01-01    22.50\n",
            "2017-01-02    22.65\n",
            "2017-01-03    41.50\n",
            "Freq: D, Name: Precios de productos, dtype: float64\n",
            "Series([], Freq: D, Name: Precios de productos, dtype: float64)\n"
          ]
        }
      ],
      "source": [
        "print (s2[s2 < np.mean(s2)])\n",
        "print (s2[(s2 > np.mean(s2)) & (s2 < np.mean(s2) + 1.64*np.std(s2))])"
      ]
    }
  ],
  "metadata": {
    "colab": {
      "collapsed_sections": [],
      "name": "anlopezgu_QuanconnectTutortials.ipynb",
      "provenance": []
    },
    "interpreter": {
      "hash": "468f25ad0239460415b7e6b7483d5c8f7213894121f6fb96c4cb6ef93fffe534"
    },
    "kernelspec": {
      "display_name": "Python 3.9.2 64-bit",
      "name": "python3"
    },
    "language_info": {
      "codemirror_mode": {
        "name": "ipython",
        "version": 3
      },
      "file_extension": ".py",
      "mimetype": "text/x-python",
      "name": "python",
      "nbconvert_exporter": "python",
      "pygments_lexer": "ipython3",
      "version": "3.9.2"
    }
  },
  "nbformat": 4,
  "nbformat_minor": 0
}
